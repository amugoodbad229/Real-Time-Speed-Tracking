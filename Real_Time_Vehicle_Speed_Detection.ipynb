{
  "nbformat": 4,
  "nbformat_minor": 0,
  "metadata": {
    "colab": {
      "provenance": [],
      "gpuType": "T4",
      "authorship_tag": "ABX9TyOQPqYhLdxq8nEvGtyZN2zP",
      "include_colab_link": true
    },
    "kernelspec": {
      "name": "python3",
      "display_name": "Python 3"
    },
    "language_info": {
      "name": "python"
    },
    "accelerator": "GPU"
  },
  "cells": [
    {
      "cell_type": "markdown",
      "metadata": {
        "id": "view-in-github",
        "colab_type": "text"
      },
      "source": [
        "<a href=\"https://colab.research.google.com/github/amugoodbad229/Real-Time-Speed-Tracking/blob/main/Real_Time_Vehicle_Speed_Detection.ipynb\" target=\"_parent\"><img src=\"https://colab.research.google.com/assets/colab-badge.svg\" alt=\"Open In Colab\"/></a>"
      ]
    },
    {
      "cell_type": "markdown",
      "source": [
        "# ---  Usefull ``pip`` commands --- **[OPTIONAL]**\n"
      ],
      "metadata": {
        "id": "WLk-VtrMWX0Q"
      }
    },
    {
      "cell_type": "code",
      "execution_count": null,
      "metadata": {
        "id": "swTqH3ieVDIR"
      },
      "outputs": [],
      "source": [
        "'''\n",
        "Run the command to know what is installed with\n",
        "specific version and what is not on colab\n",
        "'''\n",
        "!pip freeze"
      ]
    },
    {
      "cell_type": "code",
      "source": [
        "'''\n",
        "Run the command to find out whether specific libraries\n",
        "are installed or not\n",
        "\n",
        "Template:\n",
        "!pip show <library_name> <library_name> ...\n",
        "'''\n",
        "!pip show opencv-python ultralytics supervision"
      ],
      "metadata": {
        "id": "cISp4oFtZ2XC"
      },
      "execution_count": null,
      "outputs": []
    },
    {
      "cell_type": "markdown",
      "source": [
        "As the rest of libraries except ``ultralytics``, ``supervision`` are installed on colab, we need to install ``ultralytics`` and ``supervision``\n",
        "\n",
        "\n",
        "```bash\n",
        "!pip install ultralytics supervision\n",
        "```\n"
      ],
      "metadata": {
        "id": "-SItOcOaf7oB"
      }
    },
    {
      "cell_type": "markdown",
      "source": [
        "\n",
        "# We'll be using YOLOv12 models for our project\n",
        "---\n",
        "[![arXiv](https://img.shields.io/badge/arXiv-2502.12524-b31b1b.svg)](https://arxiv.org/abs/2502.12524)\n",
        "[![GitHub](https://badges.aleen42.com/src/github.svg)](https://github.com/sunsmarterjie/yolov12)\n",
        "[![Colab](https://colab.research.google.com/assets/colab-badge.svg)](https://colab.research.google.com/drive/1pJ1IS706VL_9z1JyxrWkbJ0wVswHlR1c?usp=sharing)\n",
        "\n",
        "# `YOLOv12`\n",
        "\n",
        "It is a newly proposed attention-centric variant of the YOLO family that focuses on incorporating efficient attention mechanisms into the backbone while preserving real-time performance. Instead of relying heavily on CNN-based architectures like its predecessors, YOLOv12 introduces a simple yet powerful “area attention” module, which strategically partitions the feature map to reduce the quadratic complexity of full self-attention. It also adopts residual efficient layer aggregation networks (R-ELAN) to enhance feature aggregation and training stability, especially for larger models. These innovations, together with refinements such as scaled residual connections and a reduced MLP ratio, enable YOLOv12 to harness the benefits of attention (e.g., better global context modeling) without sacrificing speed.\n",
        "\n",
        "![yolov12-area-attention](https://media.roboflow.com/notebooks/examples/yolov12-area-attention.png)\n",
        "\n",
        "Compared to prior YOLO iterations (e.g., YOLOv10, YOLOv11, and YOLOv8), YOLOv12 achieves higher detection accuracy with competitive or faster inference times across all model scales. Its five sizes—N, S, M, L, and X—range from 2.6M to 59.1M parameters, striking a strong accuracy–speed balance. For instance, the smallest YOLOv12-N surpasses other “nano” models by over 1% mAP with latency around 1.6 ms on a T4 GPU, and the largest YOLOv12-X achieves 55.2% mAP, comfortably outscoring comparable real-time detectors such as RT-DETR and YOLOv11-X . By matching or exceeding state-of-the-art accuracy while remaining fast, YOLOv12 represents a notable step forward for attention-based real-time object detection.\n",
        "\n",
        "![yolov12-metrics](https://storage.googleapis.com/com-roboflow-marketing/notebooks/examples/yolov12-metrics.png)"
      ],
      "metadata": {
        "id": "2iaXEh2RVkcz"
      }
    },
    {
      "cell_type": "markdown",
      "source": [
        "# Limitation of ``YOLOv12``\n",
        "\n",
        "A current limitation of ``YOLOv12`` is its reliance on ``FlashAttention`` for optimal speed. ``FlashAttention`` is only supported on relatively modern GPU architectures (NVIDIA Turing, Ampere, Ada Lovelace, or Hopper families) such as ``Tesla T4``, ``RTX 20/30/40-series``, ``A100``, ``H100``, etc.\n",
        "\n",
        "This means older GPUs that lack these architectures cannot fully benefit from YOLOv12’s optimized attention implementation. Users on unsupported hardware would have to fall back to standard attention kernels, losing some speed advantage."
      ],
      "metadata": {
        "id": "ebgeeyq4JyD2"
      }
    },
    {
      "cell_type": "markdown",
      "source": [
        "# Check GPU availability\n",
        "\n",
        "**NOTE:** ``YOLOv12`` leverages `FlashAttention` to speed up attention-based computations, but this feature requires an Nvidia GPU built from the above architectures or newer\n",
        "\n",
        "Let's make sure that we have access to GPU. We can use `nvidia-smi` command to do that.   \n",
        "\n",
        "In case of any problems navigate to `Edit` -> `Notebook settings` -> `Hardware accelerator`, set it to `GPU`, and then click `Save`.\n",
        "\n",
        "**or** go to 🔽 button below ``share`` option, right beside `connect` -> `Change runtime type` -> `T4 GPU` -> `save`"
      ],
      "metadata": {
        "id": "fMOJk3OeOfuI"
      }
    },
    {
      "cell_type": "code",
      "source": [
        "!nvidia-smi"
      ],
      "metadata": {
        "id": "JfeDAZsSTgSg"
      },
      "execution_count": null,
      "outputs": []
    },
    {
      "cell_type": "markdown",
      "source": [
        "\n",
        "# `Project Goal:`\n",
        "\n",
        "**The main goal of this project is to develop a system capable of accurately detecting and displaying the speed of vehicles in real-time from a video feed.**\n",
        "\n"
      ],
      "metadata": {
        "id": "dqe-y-PMlqqV"
      }
    },
    {
      "cell_type": "markdown",
      "source": [
        "> **[MUST RUN]** --> You need to run this to achieve the ``project goal``, some are added with main STEP headings, meaning you need to run all code blocks under it      \n",
        "\n",
        ">**[OPTIONAL]** --> It is optional but important learning steps"
      ],
      "metadata": {
        "id": "gFxANwtooWp-"
      }
    },
    {
      "cell_type": "markdown",
      "source": [
        "# STEP 0: Download the dependencies **[MUST RUN]**"
      ],
      "metadata": {
        "id": "GtKvuDR9hMS5"
      }
    },
    {
      "cell_type": "markdown",
      "source": [
        "**NOTE:** Currently, `YOLOv12` does not have its own `PyPI` package, so we install it directly from GitHub while also adding `flash-attn` (to accelerate attention-based computations via optimized CUDA kernels) and `supervision` (to visualize inference results and benchmark the model’s performance)"
      ],
      "metadata": {
        "id": "qKuh7aphBOVF"
      }
    },
    {
      "cell_type": "markdown",
      "source": [
        "Install the official ``YOLOv12`` repository from original authors"
      ],
      "metadata": {
        "id": "-N4z3unXiUWJ"
      }
    },
    {
      "cell_type": "code",
      "source": [
        "# It will also install all the requirements to run YOLOv12 models\n",
        "# e.g. opencv-python, numpy, ultralytics, etc.\n",
        "!pip install git+https://github.com/sunsmarterjie/yolov12.git"
      ],
      "metadata": {
        "id": "s8aGbs0beJNL"
      },
      "execution_count": null,
      "outputs": []
    },
    {
      "cell_type": "markdown",
      "source": [
        "Install ``flash-attn`` without build isolation to ensure it compiles against the currently installed PyTorch and CUDA versions on ``Colab``\n",
        "\n",
        "> ``FlashAttention`` is integrated as a core optimization to enhance the model’s real-time object detection performance."
      ],
      "metadata": {
        "id": "faHkmZ9GBJcI"
      }
    },
    {
      "cell_type": "code",
      "source": [
        "!pip install flash-attn --no-build-isolation"
      ],
      "metadata": {
        "id": "_6YFB2fPAKlj"
      },
      "execution_count": null,
      "outputs": []
    },
    {
      "cell_type": "markdown",
      "source": [
        "Install `supervision` which is **also** a helper library that makes it easy to draw the detection boxes, labels, and tracking lines onto the video frames."
      ],
      "metadata": {
        "id": "SWeWhVI3i2GE"
      }
    },
    {
      "cell_type": "code",
      "source": [
        "!pip install supervision"
      ],
      "metadata": {
        "id": "jyscLTmsiwv6"
      },
      "execution_count": null,
      "outputs": []
    },
    {
      "cell_type": "markdown",
      "source": [
        "## --- Download Data ---"
      ],
      "metadata": {
        "id": "reNRlTv6v_e_"
      }
    },
    {
      "cell_type": "code",
      "source": [
        "# -O means \"output document\" or \"output file\"\n",
        "# gdown is a lightweight Python package designed for downloading files from Google Drive public/sharing links.\n",
        "!pip install gdown\n",
        "\n",
        "# Download the image\n",
        "!gdown https://drive.google.com/uc?id=1SOjAkIsL5Ma0Jn1LrFgbTyGk14KtCwEX -O /content/screenshot.png\n",
        "\n",
        "# Download the video\n",
        "!gdown https://drive.google.com/uc?id=1X6Z7KosRdXVXXMtrbq9TWsAm-UjS3TfB -O /content/input_video.mp4"
      ],
      "metadata": {
        "id": "eDGnMI2NwC2g"
      },
      "execution_count": null,
      "outputs": []
    },
    {
      "cell_type": "markdown",
      "source": [
        "## --- Configuration ---"
      ],
      "metadata": {
        "id": "YnLNus7lvvnt"
      }
    },
    {
      "cell_type": "code",
      "source": [
        "MODEL_NAME = \"yolov12l.pt\"\n",
        "SOURCE_VIDEO_PATH = \"input_video.mp4\"\n",
        "TARGET_VIDEO_PATH = \"output_video.mp4\"\n",
        "SOURCE_IMAGE_PATH = \"screenshot.png\""
      ],
      "metadata": {
        "id": "Yjh_9sPEvvP9"
      },
      "execution_count": 5,
      "outputs": []
    },
    {
      "cell_type": "markdown",
      "source": [
        "## --- Import Libraries ---"
      ],
      "metadata": {
        "id": "nJCb-473Qizz"
      }
    },
    {
      "cell_type": "code",
      "source": [
        "'''\n",
        "Think of `opencv-python` as the entire toolbox, and `cv2` as the main tool\n",
        "within that box that you grab to start working. It's a common convention\n",
        "in many libraries where the package name for installation might differ\n",
        "slightly from the module name used for importing.\n",
        "\n",
        "Examples:\n",
        "[1] You install Pillow, but import it as PIL\n",
        "    # !pip install Pillow\n",
        "    # import PIL\n",
        "[2] You install scikit-learn, but you import it as sklearn\n",
        "    # !pip install scikit-learn\n",
        "    # import sklearn\n",
        "'''\n",
        "import cv2\n",
        "\n",
        "import numpy as np\n",
        "import supervision as sv\n",
        "from ultralytics import YOLO\n",
        "\n",
        "# tqdm library is used to show a progress bar\n",
        "from tqdm.notebook import tqdm as notebook_tqdm\n",
        "\n",
        "# deque (double-ended queue) is a data structure that allows for\n",
        "# fast appends and pops from both ends. It is used to maintain a\n",
        "# fixed-length history of positions for each tracked object.\n",
        "from collections import defaultdict, deque"
      ],
      "metadata": {
        "id": "hWW4Rvlrb11a",
        "colab": {
          "base_uri": "https://localhost:8080/"
        },
        "outputId": "3c0990cd-9463-4c9c-8b38-c2418442e64c"
      },
      "execution_count": 6,
      "outputs": [
        {
          "output_type": "stream",
          "name": "stdout",
          "text": [
            "Creating new Ultralytics Settings v0.0.6 file ✅ \n",
            "View Ultralytics Settings with 'yolo settings' or at '/root/.config/yolov12/settings.json'\n",
            "Update Settings with 'yolo settings key=value', i.e. 'yolo settings runs_dir=path/to/dir'. For help see https://docs.ultralytics.com/quickstart/#ultralytics-settings.\n",
            "FlashAttention is not available on this device. Using scaled_dot_product_attention instead.\n"
          ]
        }
      ]
    },
    {
      "cell_type": "markdown",
      "source": [
        "# Draw grid on the image for easy calculations **[OPTIONAL]**\n",
        "\n",
        "> The frame here is a random screenshot of the video. Also the camera is shaky. So you might need to re-adjust the coordinates. Look for ``step 1.2`` for more detailes."
      ],
      "metadata": {
        "id": "6ZC4bsoSf-hk"
      }
    },
    {
      "cell_type": "code",
      "source": [
        "import matplotlib.pyplot as plt\n",
        "import numpy as np\n",
        "from PIL import Image\n",
        "\n",
        "# --- Image Dimensions ---\n",
        "WIDTH = 1920\n",
        "HEIGHT = 1080\n",
        "\n",
        "frame = SOURCE_IMAGE_PATH # A random frame taken from the input video source\n",
        "\n",
        "# --- Load the image ---\n",
        "img = Image.open(frame) # upload the image on colab in folder and paste the name instead of 'i1.png'\n",
        "img_array = np.array(img)\n",
        "\n",
        "# --- Plot Setup ---\n",
        "# You can change the graph size here\n",
        "# This does not change the measurement\n",
        "fig, ax = plt.subplots(figsize=(12, 6))\n",
        "\n",
        "# Display the image as the background\n",
        "ax.imshow(img_array, extent=[0, WIDTH, HEIGHT, 0])\n",
        "\n",
        "# 1. Set the X-axis range (0 to WIDTH)\n",
        "ax.set_xlim(0, WIDTH)\n",
        "\n",
        "# 2. Set the Y-axis range (0 to HEIGHT)\n",
        "ax.set_ylim(HEIGHT, 0)\n",
        "\n",
        "# --- Add Grid Lines and Ticks ---\n",
        "# Set major grid lines every 100 pixels\n",
        "major_ticks_x = np.arange(0, WIDTH + 1, 100)\n",
        "major_ticks_y = np.arange(0, HEIGHT + 1, 100)\n",
        "\n",
        "ax.set_xticks(major_ticks_x)\n",
        "ax.set_yticks(major_ticks_y)\n",
        "\n",
        "# Set minor grid lines every 10 pixels for more granularity\n",
        "minor_ticks_x = np.arange(0, WIDTH + 1, 10)\n",
        "minor_ticks_y = np.arange(0, HEIGHT + 1, 10)\n",
        "\n",
        "ax.set_xticks(minor_ticks_x, minor=True)\n",
        "ax.set_yticks(minor_ticks_y, minor=True)\n",
        "\n",
        "# Add the grid lines, making them more transparent\n",
        "ax.grid(which='major', color='white', linestyle='-', linewidth=0.5, alpha=0.3)\n",
        "ax.grid(which='minor', color='white', linestyle='-', linewidth=0.5, alpha=0.3)\n",
        "\n",
        "# Move the x axis to top\n",
        "ax.xaxis.tick_top()\n",
        "\n",
        "plt.show()"
      ],
      "metadata": {
        "id": "IZ7NN-wbQep1"
      },
      "execution_count": null,
      "outputs": []
    },
    {
      "cell_type": "markdown",
      "source": [
        "# STEP 1: Detect and Track Objects"
      ],
      "metadata": {
        "id": "fEe2a9T1bujy"
      }
    },
    {
      "cell_type": "markdown",
      "source": [
        "## STEP 1.1: Object Detection\n",
        "\n"
      ],
      "metadata": {
        "id": "si5M0_K_AV7J"
      }
    },
    {
      "cell_type": "markdown",
      "source": [
        "### Custom color setup for specific ``class ID`` **[Optional]**\n",
        "\n",
        "> For this project, I will change the color for cars\n",
        "\n",
        "\n",
        "\n"
      ],
      "metadata": {
        "id": "16itGscyK-YV"
      }
    },
    {
      "cell_type": "code",
      "source": [
        "CAR_CLASS_ID = 2 # see ⭐ section under STEP 1.3\n",
        "\n",
        "# --- Add more classes ---\n",
        "# TRUCK_CLASS_ID = 7\n",
        "# ...\n",
        "\n",
        "# The default color set will be used for all other classes\n",
        "colors = list(sv.ColorPalette.DEFAULT.colors)\n",
        "\n",
        "# Create a dictionary that maps Class ID to the supervision Color object\n",
        "colors[CAR_CLASS_ID] = sv.Color.ROBOFLOW\n",
        "\n",
        "# --- Assign more colors to classes ---\n",
        "# colors[TRUCK_CLASS_ID] = sv.Color.WHITE\n",
        "# ...\n",
        "\n",
        "# Differemt ways to assign colors\n",
        "# [1] color=sv.Color.WHITE\n",
        "# [2] color=sv.Color.from_hex('#ff00ff')\n",
        "# [3] color=sv.Color(r=255, g=255, b=0)\n",
        "\n",
        "# Create the final Color Palette list\n",
        "custom_palette = sv.ColorPalette(colors=colors)"
      ],
      "metadata": {
        "id": "886_PNcy9rRM"
      },
      "execution_count": 7,
      "outputs": []
    },
    {
      "cell_type": "markdown",
      "source": [
        "### Load the ``YOLOv12`` models **[MUST RUN]**"
      ],
      "metadata": {
        "id": "fBR0H7JUVzVH"
      }
    },
    {
      "cell_type": "code",
      "source": [
        "model = YOLO(MODEL_NAME) # Check Configuration Section"
      ],
      "metadata": {
        "colab": {
          "base_uri": "https://localhost:8080/"
        },
        "id": "DNTvcCq8VsXe",
        "outputId": "a293482b-a162-4cfb-d965-94ccdef33a09"
      },
      "execution_count": 8,
      "outputs": [
        {
          "output_type": "stream",
          "name": "stdout",
          "text": [
            "Downloading https://github.com/sunsmarterjie/yolov12/releases/download/turbo/yolov12l.pt to 'yolov12l.pt'...\n"
          ]
        },
        {
          "output_type": "stream",
          "name": "stderr",
          "text": [
            "100%|██████████| 51.4M/51.4M [00:00<00:00, 84.8MB/s]\n"
          ]
        }
      ]
    },
    {
      "cell_type": "markdown",
      "source": [
        "### Get ``video`` information to configure the ``output`` file **[MUST RUN]**"
      ],
      "metadata": {
        "id": "j5D1j7hSYOK3"
      }
    },
    {
      "cell_type": "code",
      "source": [
        "video_info = sv.VideoInfo.from_video_path(SOURCE_VIDEO_PATH)"
      ],
      "metadata": {
        "id": "d98EWGaYWqYg"
      },
      "execution_count": 9,
      "outputs": []
    },
    {
      "cell_type": "markdown",
      "source": [
        "### Set ``box`` and ``label`` annotation for the objects **[MUST RUN]**\n",
        "\n",
        "> Do not forget to remove `color=custom_palette` if you do not want ``custom color`` for each class object"
      ],
      "metadata": {
        "id": "AwT6g4H9Yej9"
      }
    },
    {
      "cell_type": "code",
      "source": [
        "'''\n",
        "remove `color=custom_palette` if you don't want to assign any custom colors\n",
        "Also, you first need to run the previous block if you want to assign custom colors\n",
        "'''\n",
        "bounding_box_annotator = sv.BoxAnnotator(color=custom_palette) # Creates bounding box on each vehicle\n",
        "\n",
        "# You can add parameters to change font size and color\n",
        "label_annotator = sv.LabelAnnotator(color=custom_palette, text_thickness=2, text_scale=0.7, smart_position=True) # Creates label on each vehicle"
      ],
      "metadata": {
        "id": "_pP8kAXGYdSk"
      },
      "execution_count": 10,
      "outputs": []
    },
    {
      "cell_type": "markdown",
      "source": [
        "### Code Snippet for ``Object Detection`` Only **[OPTIONAL]**"
      ],
      "metadata": {
        "id": "IWqQMsQ4PIJQ"
      }
    },
    {
      "cell_type": "markdown",
      "source": [
        "> Why we add ``frame.copy()`` for bounding box , but we add ``annotated_frame`` for label ? It is to ensure that the ``bounding boxes`` are drawn on a fresh copy of the original ``frame``, while the ``labels`` are drawn on the already ``annotated frame`` that includes the ``bounding boxes`` (To understand how label is used, see ``STEP 1.3`` )."
      ],
      "metadata": {
        "id": "z6_6PrbL9qBA"
      }
    },
    {
      "cell_type": "code",
      "source": [
        "frame_generator = sv.get_video_frames_generator(SOURCE_VIDEO_PATH)\n",
        "\n",
        "# --- Process video frame-by-frame ---\n",
        "with sv.VideoSink(target_path=TARGET_VIDEO_PATH, video_info=video_info) as sink:\n",
        "\n",
        "    '''\n",
        "    Using notebook_tqdm to get the progress bar.\n",
        "    If you do not want to use it, then update it to this,\n",
        "    for frame in frame_generator:\n",
        "    '''\n",
        "    for frame in notebook_tqdm(frame_generator, total=video_info.total_frames):\n",
        "        result = model(frame)[0] # yolov12l.pt detects objects\n",
        "        detections = sv.Detections.from_ultralytics(result)\n",
        "\n",
        "        # Explanation provided in the text block\n",
        "        annotated_frame = bounding_box_annotator.annotate(\n",
        "            scene=frame.copy(),\n",
        "            detections=detections)\n",
        "\n",
        "        # Write the Annotated Frame to the output file\n",
        "        sink.write_frame(frame=annotated_frame)"
      ],
      "metadata": {
        "id": "yzn57MJB-cKo"
      },
      "execution_count": null,
      "outputs": []
    },
    {
      "cell_type": "markdown",
      "source": [
        "## STEP 1.2: Source and Target ROI (Region of interest)\n",
        "\n",
        ">Click ▶ [``TLDRAW``](https://www.tldraw.com/f/T6oHe2VW4S5P4fRhE0Aqv?d=v-4969.-631.2962.1407.-3ammlZr97oO5MAsfNS3P). I have provided the coordinate calculation and explanation for both ``SOURCE`` and ``TARGET``.\n",
        "\n",
        ">``SOURCE`` coordinates might be re-adjusted based on the ``frame`` as the camera from the ``SOURCE video`` was shaking a lot. That is why, the ``ROI`` was changing a lot."
      ],
      "metadata": {
        "id": "XuUWGEHUnk50"
      }
    },
    {
      "cell_type": "markdown",
      "source": [
        "### ``SOURCE`` and ``TARGET`` Coordinates **[MUST RUN]**\n",
        "\n",
        "> ``TARGET`` coordinates are kept realistic based on ``general info``. I might be wrong as I do not the real ``WIDTH`` and ``LENGTH`` of the road from the ``CAM angle``"
      ],
      "metadata": {
        "id": "pPTsuzLrbeI0"
      }
    },
    {
      "cell_type": "code",
      "source": [
        "SOURCE = np.array([\n",
        "    [780, 160],\n",
        "    [1190, 150],\n",
        "    [2010,1080],\n",
        "    [50, 1080]\n",
        "])\n",
        "\n",
        "# Considered USA Roads\n",
        "TARGET_WIDTH = 20\n",
        "TARGET_HEIGHT = 144\n",
        "\n",
        "TARGET = np.array([\n",
        "    [0, 0],\n",
        "    [TARGET_WIDTH - 1, 0],\n",
        "    [TARGET_WIDTH - 1, TARGET_HEIGHT - 1],\n",
        "    [0, TARGET_HEIGHT - 1]\n",
        "])"
      ],
      "metadata": {
        "id": "5O_MhnSPlgJN"
      },
      "execution_count": 16,
      "outputs": []
    },
    {
      "cell_type": "markdown",
      "source": [
        "### Visualize the ``polygone`` to know whether it is placed correctly or not **[OPTIONAL]**"
      ],
      "metadata": {
        "id": "wrNr504XbqxQ"
      }
    },
    {
      "cell_type": "markdown",
      "source": [
        "> ``sv.get_video_frames_generator()`` gives you all frames for the video, ``iter()`` makes it possible to go through them one at a time, and ``next()`` gets the first frame. You can write a loop also."
      ],
      "metadata": {
        "id": "33PEKEwc2wZ3"
      }
    },
    {
      "cell_type": "code",
      "source": [
        "frame_generator = sv.get_video_frames_generator(source_path=SOURCE_VIDEO_PATH)\n",
        "frame = iter(frame_generator)\n",
        "frame = next(frame)"
      ],
      "metadata": {
        "id": "X0Hc_oYBsI6K"
      },
      "execution_count": null,
      "outputs": []
    },
    {
      "cell_type": "markdown",
      "source": [
        "Visualize the ``polygon`` (red boundary box) on an image ``frame`` by creating a copy of the ``frame``, drawing the ``polygon`` on it, and then displaying the annotated image."
      ],
      "metadata": {
        "id": "PR0SUmFnRg82"
      }
    },
    {
      "cell_type": "code",
      "source": [
        "# Draw the polygon\n",
        "\n",
        "polygon_frame = frame.copy()\n",
        "polygon_frame = sv.draw_polygon(\n",
        "    scene=polygon_frame,\n",
        "    polygon=SOURCE,\n",
        "    color=sv.Color.RED,\n",
        "    thickness=2\n",
        ")\n",
        "sv.plot_image(polygon_frame)"
      ],
      "metadata": {
        "id": "GXGtWcwB57Yq"
      },
      "execution_count": null,
      "outputs": []
    },
    {
      "cell_type": "markdown",
      "source": [
        "> After proper calculations, we get the following result. I went to a white board to create the ``red`` border and coordinates ``A``, ``B``, ``C`` and ``D``. Click 👉 [``TLDRAW``](https://www.tldraw.com/f/T6oHe2VW4S5P4fRhE0Aqv?d=v-4969.-631.2962.1407.-3ammlZr97oO5MAsfNS3P) to see more details.\n",
        "\n",
        "![SOURCE Coordinates](https://res.cloudinary.com/dd0tkhbsg/image/upload/v1759304806/coordinates_pc9xvp.png)"
      ],
      "metadata": {
        "id": "ffUmyGJOcGVn"
      }
    },
    {
      "cell_type": "markdown",
      "source": [
        "## STEP 1.3: Multi-Object Tracking"
      ],
      "metadata": {
        "id": "YMbTL8XQSKy2"
      }
    },
    {
      "cell_type": "markdown",
      "source": [
        "### Initiate tracker and filtering **[MUST RUN]**"
      ],
      "metadata": {
        "id": "osPwgBlOa5S1"
      }
    },
    {
      "cell_type": "markdown",
      "source": [
        "> We will be using ``ByteTrack`` algorithm to track the vehicles. The class ``dataset`` is given after the following ``code block.``"
      ],
      "metadata": {
        "id": "q1opzmxpa4ia"
      }
    },
    {
      "cell_type": "code",
      "source": [
        "# Initialize ByteTrack in Supervision\n",
        "tracker = sv.ByteTrack()\n",
        "\n",
        "# Initiate the polygon zone for filtering\n",
        "polygon = sv.PolygonZone(polygon=SOURCE)"
      ],
      "metadata": {
        "id": "-OB6PzLsXBlP"
      },
      "execution_count": 17,
      "outputs": []
    },
    {
      "cell_type": "markdown",
      "source": [
        "### Multiple Object Tracking **[OPTIONAL]**"
      ],
      "metadata": {
        "id": "NmhdiPt5bFBZ"
      }
    },
    {
      "cell_type": "code",
      "source": [
        "frame_generator = sv.get_video_frames_generator(SOURCE_VIDEO_PATH)\n",
        "\n",
        "with sv.VideoSink(target_path=TARGET_VIDEO_PATH, video_info=video_info) as sink:\n",
        "    for frame in notebook_tqdm(frame_generator, total=video_info.total_frames):\n",
        "        results = model(frame)[0]  # Use model() for inference\n",
        "\n",
        "        # Detects all objects\n",
        "        detections = sv.Detections.from_ultralytics(results)\n",
        "\n",
        "        # Starts tracking all detected objects\n",
        "        detections = tracker.update_with_detections(detections=detections)\n",
        "\n",
        "        # Starts filtering based on the polygon (ROI)\n",
        "        # --- START ---\n",
        "        # returns a NumPy array of boolean values, e.g., [False, True, False, ...]\n",
        "        mask = polygon.trigger(detections=detections)\n",
        "        # provides list of IDs of detections that are inside the polygon\n",
        "        detections = detections[mask] # This is called NumPy Slicing\n",
        "        # --- END ---\n",
        "\n",
        "        # Start annotation on a clean frame copy\n",
        "        annotated_frame = frame.copy()\n",
        "\n",
        "        # Draw the Polygon\n",
        "        annotated_frame = sv.draw_polygon(\n",
        "            scene=annotated_frame,\n",
        "            polygon=SOURCE,\n",
        "            color=sv.Color.RED, # Your desired red color\n",
        "            thickness=2\n",
        "        )\n",
        "\n",
        "        # --- Create Labels and Annotate ---\n",
        "        annotated_frame = bounding_box_annotator.annotate(\n",
        "            scene=annotated_frame,\n",
        "            detections=detections\n",
        "        )\n",
        "        # The labels list contains the ID for each vehicle\n",
        "        labels = [f\"{model.names[class_id]} #{tracker_id}\"\n",
        "                  for class_id, tracker_id in zip(detections.class_id, detections.tracker_id)]\n",
        "                  # model.names is a dictionary mapping class_id (e.g., 0, 1) to class name (e.g., 'car', 'person')\n",
        "                  # detections.class_id = [0, 0, 1] and detections.tracker_id = [1, 2, 1]\n",
        "                  # so the zip will produce [(0, 1), (0, 2), (1, 1)]\n",
        "                  # detections is an object that contains the results of the detection model\n",
        "                  # .class_id is a list of class IDs for each detection\n",
        "                  # .tracker_id is a list of unique tracker IDs for each detection\n",
        "                  # iteration 1: class_id=0, tracker_id=1 -> label=\"car #1\"\n",
        "                  # iteration 2: class_id=0, tracker_id=2 -> label=\"car #2\"\n",
        "\n",
        "        # Explanation provided in STEP 1.1 for labels\n",
        "        annotated_frame = label_annotator.annotate(\n",
        "            scene=annotated_frame,\n",
        "            detections=detections,\n",
        "            labels=labels\n",
        "        )\n",
        "\n",
        "        # Write the Annotated frame to the output file\n",
        "        sink.write_frame(frame=annotated_frame)"
      ],
      "metadata": {
        "id": "icTJ_P1TSKFy"
      },
      "execution_count": null,
      "outputs": []
    },
    {
      "cell_type": "markdown",
      "source": [
        "### ✨``Classes`` categorized based on ``COCO`` dataset"
      ],
      "metadata": {
        "id": "1zmGFnzN1kEB"
      }
    },
    {
      "cell_type": "code",
      "source": [
        "'''\n",
        "names:\n",
        "  0: person\n",
        "  1: bicycle\n",
        "  2: car\n",
        "  3: motorcycle\n",
        "  4: airplane\n",
        "  5: bus\n",
        "  6: train\n",
        "  7: truck\n",
        "  8: boat\n",
        "  9: traffic light\n",
        "  10: fire hydrant\n",
        "  11: stop sign\n",
        "  12: parking meter\n",
        "  13: bench\n",
        "  14: bird\n",
        "  15: cat\n",
        "  16: dog\n",
        "  17: horse\n",
        "  18: sheep\n",
        "  19: cow\n",
        "  20: elephant\n",
        "  21: bear\n",
        "  22: zebra\n",
        "  23: giraffe\n",
        "  24: backpack\n",
        "  25: umbrella\n",
        "  26: handbag\n",
        "  27: tie\n",
        "  28: suitcase\n",
        "  29: frisbee\n",
        "  30: skis\n",
        "  31: snowboard\n",
        "  32: sports ball\n",
        "  33: kite\n",
        "  34: baseball bat\n",
        "  35: baseball glove\n",
        "  36: skateboard\n",
        "  37: surfboard\n",
        "  38: tennis racket\n",
        "  39: bottle\n",
        "  40: wine glass\n",
        "  41: cup\n",
        "  42: fork\n",
        "  43: knife\n",
        "  44: spoon\n",
        "  45: bowl\n",
        "  46: banana\n",
        "  47: apple\n",
        "  48: sandwich\n",
        "  49: orange\n",
        "  50: broccoli\n",
        "  51: carrot\n",
        "  52: hot dog\n",
        "  53: pizza\n",
        "  54: donut\n",
        "  55: cake\n",
        "  56: chair\n",
        "  57: couch\n",
        "  58: potted plant\n",
        "  59: bed\n",
        "  60: dining table\n",
        "  61: toilet\n",
        "  62: tv\n",
        "  63: laptop\n",
        "  64: mouse\n",
        "  65: remote\n",
        "  66: keyboard\n",
        "  67: cell phone\n",
        "  68: microwave\n",
        "  69: oven\n",
        "  70: toaster\n",
        "  71: sink\n",
        "  72: refrigerator\n",
        "  73: book\n",
        "  74: clock\n",
        "  75: vase\n",
        "  76: scissors\n",
        "  77: teddy bear\n",
        "  78: hair drier\n",
        "  79: toothbrush\n",
        "  '''"
      ],
      "metadata": {
        "id": "0yrAVO7E1PJD"
      },
      "execution_count": null,
      "outputs": []
    },
    {
      "cell_type": "markdown",
      "source": [
        "## STEP 2: Transform Perspective\n",
        "\n"
      ],
      "metadata": {
        "id": "TSwYLJaf9rZw"
      }
    },
    {
      "cell_type": "markdown",
      "source": [
        "### Create Perspective Transformer Class **[MUST RUN]**"
      ],
      "metadata": {
        "id": "H2SftyWXaKKZ"
      }
    },
    {
      "cell_type": "markdown",
      "source": [
        "> We need to create ``class`` that will convert the angled perspective to bird's eye view"
      ],
      "metadata": {
        "id": "9Y8CH9_PqrIi"
      }
    },
    {
      "cell_type": "code",
      "source": [
        "class ViewTransformer:\n",
        "\n",
        "    def __init__(self, source: np.ndarray, target: np.ndarray) -> None:\n",
        "        # Creating constructor that takes source and target points as input\n",
        "        # When you create an instance of this class, you need to provide source and target points\n",
        "        source = source.astype(np.float32)\n",
        "        target = target.astype(np.float32)\n",
        "        self.m = cv2.getPerspectiveTransform(source, target)\n",
        "\n",
        "    def transform_points(self, points: np.ndarray) -> np.ndarray:\n",
        "        # Check if the input points array is empty.\n",
        "        # Why is this needed? Because cv2.perspectiveTransform fails on empty arrays\n",
        "        if points.size == 0:\n",
        "            return points\n",
        "\n",
        "        '''\n",
        "        cv2.perspectiveTransform expects points in shape (N, 1, 2). Also, we need\n",
        "        to ensure the points are of type float32, as required by OpenCV functions.\n",
        "        -1 in reshape is a special placeholder that tells NumPy to automatically calculate\n",
        "        the size of that dimension based on the other dimensions and the total number of elements.\n",
        "        e.g., if we have 10 points, reshaping to (-1, 1, 2) will result in (10, 1, 2)\n",
        "\n",
        "        (-1, 1, 2) means \"keep the first dimension (number of points)\n",
        "        # as is, and reshape the last two dimensions to 1 and 2\"\n",
        "        '''\n",
        "        reshaped_points = points.reshape(-1, 1, 2).astype(np.float32)\n",
        "        transformed_points = cv2.perspectiveTransform(reshaped_points, self.m)\n",
        "        # cv2.perspectiveTransform returns points in shape (N, 1, 2), so we need to reshape it back to (N, 2)\n",
        "        return transformed_points.reshape(-1, 2)"
      ],
      "metadata": {
        "id": "hsQJhGBk9ruN"
      },
      "execution_count": 18,
      "outputs": []
    },
    {
      "cell_type": "markdown",
      "source": [
        "> Initiate the ``ViewTransformer`` class"
      ],
      "metadata": {
        "id": "AJ0shoQeomH1"
      }
    },
    {
      "cell_type": "code",
      "source": [
        "view_transformer = ViewTransformer(source=SOURCE, target=TARGET)"
      ],
      "metadata": {
        "id": "rtubMYK39y7B"
      },
      "execution_count": 19,
      "outputs": []
    },
    {
      "cell_type": "markdown",
      "source": [
        "### Object coordinates after perspective transformation **[Optional]**\n",
        "\n",
        "> Running this block, you can generate video with transformed ``x`` and ``y`` coordinates."
      ],
      "metadata": {
        "id": "UjxhKiUGpX1c"
      }
    },
    {
      "cell_type": "code",
      "source": [
        "frame_generator = sv.get_video_frames_generator(SOURCE_VIDEO_PATH)\n",
        "\n",
        "with sv.VideoSink(target_path=TARGET_VIDEO_PATH, video_info=video_info) as sink:\n",
        "  for frame in notebook_tqdm(frame_generator, total=video_info.total_frames):\n",
        "\n",
        "      # 1. Detection, Tracking, and Filtering\n",
        "      results = model(frame)[0]\n",
        "      detections = sv.Detections.from_ultralytics(results)\n",
        "      detections = tracker.update_with_detections(detections=detections)\n",
        "      mask = polygon.trigger(detections=detections)\n",
        "      detections = detections[mask]\n",
        "\n",
        "      # 2. Get the bottom-center point of each bounding box that is touching the ground\n",
        "      points = detections.get_anchors_coordinates(anchor=sv.Position.BOTTOM_CENTER)\n",
        "\n",
        "      # 3. Transform the points from the image plane to the bird's-eye view (metric space)\n",
        "      points = view_transformer.transform_points(points=points)\n",
        "\n",
        "      # 4. Generate list of Class Name, Tracker ID, and Transformed Coordinates\n",
        "      labels = [f\"{model.names[class_id]} #{tracker_id}\\nx: {point[0]:.0f}, y: {point[1]:.0f}\"\n",
        "                for class_id, tracker_id, point in zip(detections.class_id, detections.tracker_id, points)]\n",
        "\n",
        "      # 5. Draw the ROI Polygon (Background Layer)\n",
        "      annotated_frame = frame.copy()\n",
        "      annotated_frame = sv.draw_polygon(\n",
        "          scene=annotated_frame,\n",
        "          polygon=SOURCE,\n",
        "          color=sv.Color.RED,\n",
        "          thickness=2\n",
        "      )\n",
        "\n",
        "      # 6. Annotate Bounding Boxes (Middle Layer)\n",
        "      annotated_frame = bounding_box_annotator.annotate(scene=annotated_frame, detections=detections)\n",
        "\n",
        "      # 7. Annotate Labels (Top Layer)\n",
        "      annotated_frame = label_annotator.annotate(scene=annotated_frame, detections=detections, labels=labels)\n",
        "\n",
        "      # 8. Write the frame to the video file\n",
        "      sink.write_frame(frame=annotated_frame)\n"
      ],
      "metadata": {
        "id": "nq1bkanFpd0m"
      },
      "execution_count": null,
      "outputs": []
    },
    {
      "cell_type": "markdown",
      "source": [
        "# STEP 3: Calculating Speed with Computer Vision **[MUST RUN]**"
      ],
      "metadata": {
        "id": "-AOVs31F7y5j"
      }
    },
    {
      "cell_type": "markdown",
      "source": [
        "\n",
        "> ``defaultdict`` is a **subclass of the built-in dict class**. It overrides one method and adds one writable instance variable. The overridden method is ``__missing__(key)``, which is called by the ``__getitem__()`` method of the dict class when the requested key is not found. In a regular dictionary, if you try to access a key that doesn't exist, it raises a ``KeyError``. However, with ``defaultdict``, if you try to access a ``key`` that doesn't exist, it will automatically ``create`` an entry for that ``key`` using the default factory function provided.\n",
        "\n",
        "Click 👉 [``TLDRAW``](https://www.tldraw.com/f/T6oHe2VW4S5P4fRhE0Aqv?d=v-4969.-631.2962.1407.-3ammlZr97oO5MAsfNS3P) to understand the logic of of the ``code snippet`` of speed.\n"
      ],
      "metadata": {
        "id": "yROfgZx8Bu4b"
      }
    },
    {
      "cell_type": "code",
      "source": [
        "'''\n",
        "coordinates varibale created a dictionary that maps each object ID to a deque of its\n",
        "recent (x, y) positions, allowing us to track the movement of each object in the video.\n",
        "'''\n",
        "\n",
        "coordinates = defaultdict(lambda: deque(maxlen=video_info.fps))\n",
        "# e.g., coordinates = {1: deque([3.4, 3.6, ...], maxlen=30), 2: deque([5.6, 5.8, ...], maxlen=30), ...}\n",
        "# [3.4, 3.6, ...] is the y coordinates we added using .append() for each tracker_id\n",
        "\n",
        "frame_generator = sv.get_video_frames_generator(SOURCE_VIDEO_PATH)\n",
        "\n",
        "with sv.VideoSink(target_path=TARGET_VIDEO_PATH, video_info=video_info) as sink:\n",
        "  for frame in notebook_tqdm(frame_generator, total=video_info.total_frames):\n",
        "\n",
        "      # 1. Detection, Tracking, and Filtering\n",
        "      results = model(frame)[0]\n",
        "      detections = sv.Detections.from_ultralytics(results)\n",
        "      detections = tracker.update_with_detections(detections=detections)\n",
        "      mask = polygon.trigger(detections=detections)\n",
        "      detections = detections[mask]\n",
        "\n",
        "      # 2. Get the bottom-center point of each bounding box that is touching the ground\n",
        "      points = detections.get_anchors_coordinates(anchor=sv.Position.BOTTOM_CENTER)\n",
        "\n",
        "      # 3. Transform the points from the image plane to the bird's-eye view (metric space)\n",
        "      points = view_transformer.transform_points(points=points)\n",
        "\n",
        "      # 4. Speed Calculation and Data Storage (Main Goal)\n",
        "\n",
        "      speeds = {} # We store the data so that we can add it in labels\n",
        "      # what does speeds = {} look like in the end?\n",
        "      # speeds = {\n",
        "      #     1: 5.4,  # Speed for object with tracker ID 1\n",
        "      #     2: 7.2   # Speed for object with tracker ID 2\n",
        "      #     ...\n",
        "      #     tracker_id: speed\n",
        "      # }\n",
        "      for tracker_id, [x, y] in zip(detections.tracker_id, points):\n",
        "          # Store the current y-coordinate (distance)\n",
        "          coordinates[tracker_id].append(y)\n",
        "          # Check if enough data is available (e.g., at least 0.5 seconds of frames)\n",
        "          # Kept it 15 frames as video_info.fps is 30, so 30/2 is 15\n",
        "          if len(coordinates[tracker_id]) > video_info.fps / 2:\n",
        "              # Calculate components\n",
        "              coordinate_start = coordinates[tracker_id][-1] # Current Y-coordinate. -1 means the last y coordinate from list\n",
        "              coordinate_end = coordinates[tracker_id][0]    # Oldest Y-coordinate in the deque. 0 means the first y coordinate from list\n",
        "              distance = abs(coordinate_start - coordinate_end) # Just need the positive value\n",
        "              time = len(coordinates[tracker_id]) / video_info.fps\n",
        "              # Calculate Speed (m/s * 3.6 = km/h)\n",
        "              speed = (distance / time) * 3.6\n",
        "              # Store the calculated speed\n",
        "              speeds[tracker_id] = speed\n",
        "\n",
        "      # 5. Generate list of Class Name, Tracker ID, and Transformed Coordinates\n",
        "      labels = [f\"{model.names[class_id]} #{tracker_id}\" +\n",
        "                (f\"\\n{speeds[tracker_id]:.0f} km/h\" if tracker_id in speeds else \"\\n-- km/h\")\n",
        "                for class_id, tracker_id in zip(detections.class_id, detections.tracker_id)]\n",
        "\n",
        "      '''\n",
        "      Optional --> Another way to write Step 5 for more clarity\n",
        "      labels = []\n",
        "      for class_id, tracker_id in zip(detections.class_id, detections.tracker_id):\n",
        "          base = f\"{model.names[class_id]} #{tracker_id}\"\n",
        "          speed_part = f\"\\n{speeds[tracker_id]:.0f} km/h\" if tracker_id in speeds else \"\\n-- km/h\"\n",
        "          labels.append(base + speed_part)\n",
        "      '''\n",
        "\n",
        "      # 6. Draw the ROI Polygon (Background Layer)\n",
        "      annotated_frame = frame.copy()\n",
        "      annotated_frame = sv.draw_polygon(\n",
        "          scene=annotated_frame,\n",
        "          polygon=SOURCE,\n",
        "          color=sv.Color.RED,\n",
        "          thickness=2\n",
        "      )\n",
        "\n",
        "      # 7. Annotate Bounding Boxes (Middle Layer)\n",
        "      annotated_frame = bounding_box_annotator.annotate(scene=annotated_frame, detections=detections)\n",
        "\n",
        "      # 8. Annotate Labels (Top Layer)\n",
        "      annotated_frame = label_annotator.annotate(scene=annotated_frame, detections=detections, labels=labels)\n",
        "\n",
        "      # 9. Write the frame to the video file\n",
        "      sink.write_frame(frame=annotated_frame)"
      ],
      "metadata": {
        "colab": {
          "base_uri": "https://localhost:8080/",
          "height": 1000,
          "referenced_widgets": [
            "97ddb79d38134ac69b2cc62575823c28",
            "3fc0a66ec4de4f29b5c863879fed6c95",
            "b76f6aa0fcb04a68bc7eab2db4d4f1c4",
            "4f2b7e354b2242e8a082e4c8bd797cea",
            "43009595c11a4b61a2c61f07b5a447af",
            "99652379fc0d4c7e9f549e06627b1568",
            "954cafb72d7d42edac066b2b676307bc",
            "ceba42cd0c9c4f03852916c8ebc167b2",
            "69eb6f3ab7f14cff8a9e534184deadf8",
            "7f9de6c080414ce4bfd0b1f503abecab",
            "0f040ec6b75a4c6298b49d0a67b26c42"
          ]
        },
        "id": "n4-cyQefAYZM",
        "outputId": "aaa921dc-e344-457a-d671-dd299a562263"
      },
      "execution_count": 20,
      "outputs": [
        {
          "output_type": "display_data",
          "data": {
            "text/plain": [
              "  0%|          | 0/335 [00:00<?, ?it/s]"
            ],
            "application/vnd.jupyter.widget-view+json": {
              "version_major": 2,
              "version_minor": 0,
              "model_id": "97ddb79d38134ac69b2cc62575823c28"
            }
          },
          "metadata": {}
        },
        {
          "output_type": "stream",
          "name": "stdout",
          "text": [
            "\n",
            "0: 384x640 9 cars, 1387.3ms\n",
            "Speed: 8.3ms preprocess, 1387.3ms inference, 2.0ms postprocess per image at shape (1, 3, 384, 640)\n",
            "\n",
            "0: 384x640 9 cars, 1351.6ms\n",
            "Speed: 3.8ms preprocess, 1351.6ms inference, 1.6ms postprocess per image at shape (1, 3, 384, 640)\n",
            "\n",
            "0: 384x640 7 cars, 1302.0ms\n",
            "Speed: 7.0ms preprocess, 1302.0ms inference, 1.4ms postprocess per image at shape (1, 3, 384, 640)\n",
            "\n",
            "0: 384x640 7 cars, 2004.3ms\n",
            "Speed: 6.4ms preprocess, 2004.3ms inference, 1.8ms postprocess per image at shape (1, 3, 384, 640)\n",
            "\n",
            "0: 384x640 8 cars, 1634.8ms\n",
            "Speed: 8.0ms preprocess, 1634.8ms inference, 1.2ms postprocess per image at shape (1, 3, 384, 640)\n",
            "\n",
            "0: 384x640 8 cars, 1315.5ms\n",
            "Speed: 6.5ms preprocess, 1315.5ms inference, 4.1ms postprocess per image at shape (1, 3, 384, 640)\n",
            "\n",
            "0: 384x640 7 cars, 1334.0ms\n",
            "Speed: 8.3ms preprocess, 1334.0ms inference, 1.4ms postprocess per image at shape (1, 3, 384, 640)\n",
            "\n",
            "0: 384x640 7 cars, 1758.7ms\n",
            "Speed: 5.5ms preprocess, 1758.7ms inference, 1.3ms postprocess per image at shape (1, 3, 384, 640)\n",
            "\n",
            "0: 384x640 8 cars, 1330.2ms\n",
            "Speed: 8.0ms preprocess, 1330.2ms inference, 1.5ms postprocess per image at shape (1, 3, 384, 640)\n",
            "\n",
            "0: 384x640 8 cars, 1348.4ms\n",
            "Speed: 5.0ms preprocess, 1348.4ms inference, 1.4ms postprocess per image at shape (1, 3, 384, 640)\n",
            "\n",
            "0: 384x640 7 cars, 1327.5ms\n",
            "Speed: 7.0ms preprocess, 1327.5ms inference, 1.3ms postprocess per image at shape (1, 3, 384, 640)\n",
            "\n",
            "0: 384x640 7 cars, 1764.3ms\n",
            "Speed: 7.3ms preprocess, 1764.3ms inference, 1.8ms postprocess per image at shape (1, 3, 384, 640)\n",
            "\n",
            "0: 384x640 6 cars, 1884.0ms\n",
            "Speed: 7.0ms preprocess, 1884.0ms inference, 1.4ms postprocess per image at shape (1, 3, 384, 640)\n",
            "\n",
            "0: 384x640 8 cars, 1326.1ms\n",
            "Speed: 3.9ms preprocess, 1326.1ms inference, 1.9ms postprocess per image at shape (1, 3, 384, 640)\n",
            "\n",
            "0: 384x640 7 cars, 1341.6ms\n",
            "Speed: 4.9ms preprocess, 1341.6ms inference, 1.4ms postprocess per image at shape (1, 3, 384, 640)\n",
            "\n",
            "0: 384x640 7 cars, 1338.5ms\n",
            "Speed: 6.1ms preprocess, 1338.5ms inference, 1.4ms postprocess per image at shape (1, 3, 384, 640)\n",
            "\n",
            "0: 384x640 8 cars, 1348.4ms\n",
            "Speed: 5.8ms preprocess, 1348.4ms inference, 1.2ms postprocess per image at shape (1, 3, 384, 640)\n",
            "\n",
            "0: 384x640 6 cars, 1325.9ms\n",
            "Speed: 6.5ms preprocess, 1325.9ms inference, 1.4ms postprocess per image at shape (1, 3, 384, 640)\n",
            "\n",
            "0: 384x640 5 cars, 1346.9ms\n",
            "Speed: 7.4ms preprocess, 1346.9ms inference, 1.2ms postprocess per image at shape (1, 3, 384, 640)\n",
            "\n",
            "0: 384x640 7 cars, 1330.1ms\n",
            "Speed: 5.6ms preprocess, 1330.1ms inference, 1.4ms postprocess per image at shape (1, 3, 384, 640)\n",
            "\n",
            "0: 384x640 8 cars, 2038.6ms\n",
            "Speed: 9.1ms preprocess, 2038.6ms inference, 2.0ms postprocess per image at shape (1, 3, 384, 640)\n",
            "\n",
            "0: 384x640 8 cars, 1562.1ms\n",
            "Speed: 4.6ms preprocess, 1562.1ms inference, 1.4ms postprocess per image at shape (1, 3, 384, 640)\n",
            "\n",
            "0: 384x640 8 cars, 1348.3ms\n",
            "Speed: 5.5ms preprocess, 1348.3ms inference, 1.8ms postprocess per image at shape (1, 3, 384, 640)\n",
            "\n",
            "0: 384x640 8 cars, 1360.8ms\n",
            "Speed: 4.4ms preprocess, 1360.8ms inference, 1.7ms postprocess per image at shape (1, 3, 384, 640)\n",
            "\n",
            "0: 384x640 7 cars, 1326.8ms\n",
            "Speed: 7.0ms preprocess, 1326.8ms inference, 1.3ms postprocess per image at shape (1, 3, 384, 640)\n",
            "\n",
            "0: 384x640 7 cars, 1331.9ms\n",
            "Speed: 6.6ms preprocess, 1331.9ms inference, 1.3ms postprocess per image at shape (1, 3, 384, 640)\n",
            "\n",
            "0: 384x640 7 cars, 1315.9ms\n",
            "Speed: 7.8ms preprocess, 1315.9ms inference, 1.3ms postprocess per image at shape (1, 3, 384, 640)\n",
            "\n",
            "0: 384x640 7 cars, 1299.1ms\n",
            "Speed: 7.0ms preprocess, 1299.1ms inference, 3.4ms postprocess per image at shape (1, 3, 384, 640)\n",
            "\n",
            "0: 384x640 6 cars, 1590.0ms\n",
            "Speed: 4.2ms preprocess, 1590.0ms inference, 1.6ms postprocess per image at shape (1, 3, 384, 640)\n",
            "\n",
            "0: 384x640 7 cars, 2034.5ms\n",
            "Speed: 7.0ms preprocess, 2034.5ms inference, 6.3ms postprocess per image at shape (1, 3, 384, 640)\n",
            "\n",
            "0: 384x640 5 cars, 1353.6ms\n",
            "Speed: 6.2ms preprocess, 1353.6ms inference, 1.5ms postprocess per image at shape (1, 3, 384, 640)\n",
            "\n",
            "0: 384x640 6 cars, 1305.0ms\n",
            "Speed: 6.5ms preprocess, 1305.0ms inference, 3.8ms postprocess per image at shape (1, 3, 384, 640)\n",
            "\n",
            "0: 384x640 5 cars, 1354.4ms\n",
            "Speed: 7.0ms preprocess, 1354.4ms inference, 1.4ms postprocess per image at shape (1, 3, 384, 640)\n",
            "\n",
            "0: 384x640 5 cars, 1315.9ms\n",
            "Speed: 6.4ms preprocess, 1315.9ms inference, 4.8ms postprocess per image at shape (1, 3, 384, 640)\n",
            "\n",
            "0: 384x640 5 cars, 1318.6ms\n",
            "Speed: 7.4ms preprocess, 1318.6ms inference, 3.3ms postprocess per image at shape (1, 3, 384, 640)\n",
            "\n",
            "0: 384x640 5 cars, 1325.8ms\n",
            "Speed: 3.8ms preprocess, 1325.8ms inference, 1.4ms postprocess per image at shape (1, 3, 384, 640)\n",
            "\n",
            "0: 384x640 6 cars, 1309.8ms\n",
            "Speed: 7.0ms preprocess, 1309.8ms inference, 1.5ms postprocess per image at shape (1, 3, 384, 640)\n",
            "\n",
            "0: 384x640 6 cars, 1867.9ms\n",
            "Speed: 4.0ms preprocess, 1867.9ms inference, 1.8ms postprocess per image at shape (1, 3, 384, 640)\n",
            "\n",
            "0: 384x640 7 cars, 1802.9ms\n",
            "Speed: 5.7ms preprocess, 1802.9ms inference, 1.3ms postprocess per image at shape (1, 3, 384, 640)\n",
            "\n",
            "0: 384x640 7 cars, 1356.9ms\n",
            "Speed: 3.9ms preprocess, 1356.9ms inference, 1.5ms postprocess per image at shape (1, 3, 384, 640)\n",
            "\n",
            "0: 384x640 7 cars, 1308.8ms\n",
            "Speed: 5.3ms preprocess, 1308.8ms inference, 1.3ms postprocess per image at shape (1, 3, 384, 640)\n",
            "\n",
            "0: 384x640 7 cars, 1331.3ms\n",
            "Speed: 7.4ms preprocess, 1331.3ms inference, 1.3ms postprocess per image at shape (1, 3, 384, 640)\n",
            "\n",
            "0: 384x640 5 cars, 1359.5ms\n",
            "Speed: 7.6ms preprocess, 1359.5ms inference, 1.4ms postprocess per image at shape (1, 3, 384, 640)\n",
            "\n",
            "0: 384x640 5 cars, 1308.4ms\n",
            "Speed: 7.5ms preprocess, 1308.4ms inference, 1.3ms postprocess per image at shape (1, 3, 384, 640)\n",
            "\n",
            "0: 384x640 7 cars, 1357.8ms\n",
            "Speed: 4.2ms preprocess, 1357.8ms inference, 1.5ms postprocess per image at shape (1, 3, 384, 640)\n",
            "\n",
            "0: 384x640 7 cars, 1581.8ms\n",
            "Speed: 4.7ms preprocess, 1581.8ms inference, 6.5ms postprocess per image at shape (1, 3, 384, 640)\n",
            "\n",
            "0: 384x640 7 cars, 3546.2ms\n",
            "Speed: 8.0ms preprocess, 3546.2ms inference, 2.0ms postprocess per image at shape (1, 3, 384, 640)\n",
            "\n",
            "0: 384x640 7 cars, 1833.0ms\n",
            "Speed: 6.4ms preprocess, 1833.0ms inference, 1.5ms postprocess per image at shape (1, 3, 384, 640)\n",
            "\n",
            "0: 384x640 7 cars, 1336.3ms\n",
            "Speed: 3.9ms preprocess, 1336.3ms inference, 1.4ms postprocess per image at shape (1, 3, 384, 640)\n",
            "\n",
            "0: 384x640 6 cars, 1410.2ms\n",
            "Speed: 5.7ms preprocess, 1410.2ms inference, 1.4ms postprocess per image at shape (1, 3, 384, 640)\n",
            "\n",
            "0: 384x640 8 cars, 1342.7ms\n",
            "Speed: 7.2ms preprocess, 1342.7ms inference, 1.6ms postprocess per image at shape (1, 3, 384, 640)\n",
            "\n",
            "0: 384x640 8 cars, 1355.7ms\n",
            "Speed: 4.0ms preprocess, 1355.7ms inference, 1.3ms postprocess per image at shape (1, 3, 384, 640)\n",
            "\n",
            "0: 384x640 8 cars, 1311.8ms\n",
            "Speed: 6.8ms preprocess, 1311.8ms inference, 1.2ms postprocess per image at shape (1, 3, 384, 640)\n",
            "\n",
            "0: 384x640 8 cars, 1322.6ms\n",
            "Speed: 5.8ms preprocess, 1322.6ms inference, 1.5ms postprocess per image at shape (1, 3, 384, 640)\n",
            "\n",
            "0: 384x640 9 cars, 1631.7ms\n",
            "Speed: 5.8ms preprocess, 1631.7ms inference, 1.9ms postprocess per image at shape (1, 3, 384, 640)\n",
            "\n",
            "0: 384x640 10 cars, 2017.6ms\n",
            "Speed: 11.1ms preprocess, 2017.6ms inference, 1.3ms postprocess per image at shape (1, 3, 384, 640)\n",
            "\n",
            "0: 384x640 9 cars, 1337.6ms\n",
            "Speed: 6.2ms preprocess, 1337.6ms inference, 3.5ms postprocess per image at shape (1, 3, 384, 640)\n",
            "\n",
            "0: 384x640 10 cars, 1333.4ms\n",
            "Speed: 4.9ms preprocess, 1333.4ms inference, 1.4ms postprocess per image at shape (1, 3, 384, 640)\n",
            "\n",
            "0: 384x640 9 cars, 1346.3ms\n",
            "Speed: 4.0ms preprocess, 1346.3ms inference, 1.4ms postprocess per image at shape (1, 3, 384, 640)\n",
            "\n",
            "0: 384x640 9 cars, 1401.8ms\n",
            "Speed: 6.3ms preprocess, 1401.8ms inference, 1.5ms postprocess per image at shape (1, 3, 384, 640)\n",
            "\n",
            "0: 384x640 10 cars, 1374.0ms\n",
            "Speed: 4.0ms preprocess, 1374.0ms inference, 1.4ms postprocess per image at shape (1, 3, 384, 640)\n",
            "\n",
            "0: 384x640 10 cars, 1324.7ms\n",
            "Speed: 6.9ms preprocess, 1324.7ms inference, 1.3ms postprocess per image at shape (1, 3, 384, 640)\n",
            "\n",
            "0: 384x640 8 cars, 1414.7ms\n",
            "Speed: 7.7ms preprocess, 1414.7ms inference, 1.4ms postprocess per image at shape (1, 3, 384, 640)\n",
            "\n",
            "0: 384x640 9 cars, 2032.1ms\n",
            "Speed: 3.7ms preprocess, 2032.1ms inference, 6.5ms postprocess per image at shape (1, 3, 384, 640)\n",
            "\n",
            "0: 384x640 9 cars, 1565.0ms\n",
            "Speed: 4.1ms preprocess, 1565.0ms inference, 4.0ms postprocess per image at shape (1, 3, 384, 640)\n",
            "\n",
            "0: 384x640 10 cars, 1343.8ms\n",
            "Speed: 4.0ms preprocess, 1343.8ms inference, 4.0ms postprocess per image at shape (1, 3, 384, 640)\n",
            "\n",
            "0: 384x640 11 cars, 1361.1ms\n",
            "Speed: 6.1ms preprocess, 1361.1ms inference, 1.3ms postprocess per image at shape (1, 3, 384, 640)\n",
            "\n",
            "0: 384x640 10 cars, 1338.7ms\n",
            "Speed: 6.6ms preprocess, 1338.7ms inference, 1.5ms postprocess per image at shape (1, 3, 384, 640)\n",
            "\n",
            "0: 384x640 10 cars, 1386.0ms\n",
            "Speed: 6.2ms preprocess, 1386.0ms inference, 1.4ms postprocess per image at shape (1, 3, 384, 640)\n",
            "\n",
            "0: 384x640 9 cars, 1368.0ms\n",
            "Speed: 5.1ms preprocess, 1368.0ms inference, 1.2ms postprocess per image at shape (1, 3, 384, 640)\n",
            "\n",
            "0: 384x640 9 cars, 1322.6ms\n",
            "Speed: 3.7ms preprocess, 1322.6ms inference, 1.4ms postprocess per image at shape (1, 3, 384, 640)\n",
            "\n",
            "0: 384x640 8 cars, 1731.1ms\n",
            "Speed: 5.5ms preprocess, 1731.1ms inference, 1.9ms postprocess per image at shape (1, 3, 384, 640)\n",
            "\n",
            "0: 384x640 8 cars, 1996.5ms\n",
            "Speed: 8.5ms preprocess, 1996.5ms inference, 1.4ms postprocess per image at shape (1, 3, 384, 640)\n",
            "\n",
            "0: 384x640 8 cars, 1347.0ms\n",
            "Speed: 6.4ms preprocess, 1347.0ms inference, 1.4ms postprocess per image at shape (1, 3, 384, 640)\n",
            "\n",
            "0: 384x640 7 cars, 1337.1ms\n",
            "Speed: 3.9ms preprocess, 1337.1ms inference, 1.1ms postprocess per image at shape (1, 3, 384, 640)\n",
            "\n",
            "0: 384x640 6 cars, 1370.0ms\n",
            "Speed: 8.8ms preprocess, 1370.0ms inference, 1.4ms postprocess per image at shape (1, 3, 384, 640)\n",
            "\n",
            "0: 384x640 6 cars, 1374.0ms\n",
            "Speed: 4.5ms preprocess, 1374.0ms inference, 1.4ms postprocess per image at shape (1, 3, 384, 640)\n",
            "\n",
            "0: 384x640 6 cars, 1330.4ms\n",
            "Speed: 8.0ms preprocess, 1330.4ms inference, 2.1ms postprocess per image at shape (1, 3, 384, 640)\n",
            "\n",
            "0: 384x640 5 cars, 1339.7ms\n",
            "Speed: 7.5ms preprocess, 1339.7ms inference, 1.4ms postprocess per image at shape (1, 3, 384, 640)\n",
            "\n",
            "0: 384x640 5 cars, 1338.2ms\n",
            "Speed: 11.0ms preprocess, 1338.2ms inference, 1.4ms postprocess per image at shape (1, 3, 384, 640)\n",
            "\n",
            "0: 384x640 5 cars, 2036.2ms\n",
            "Speed: 6.8ms preprocess, 2036.2ms inference, 1.9ms postprocess per image at shape (1, 3, 384, 640)\n",
            "\n",
            "0: 384x640 6 cars, 1611.2ms\n",
            "Speed: 7.3ms preprocess, 1611.2ms inference, 1.3ms postprocess per image at shape (1, 3, 384, 640)\n",
            "\n",
            "0: 384x640 6 cars, 1380.4ms\n",
            "Speed: 7.1ms preprocess, 1380.4ms inference, 1.3ms postprocess per image at shape (1, 3, 384, 640)\n",
            "\n",
            "0: 384x640 5 cars, 1410.0ms\n",
            "Speed: 5.9ms preprocess, 1410.0ms inference, 1.4ms postprocess per image at shape (1, 3, 384, 640)\n",
            "\n",
            "0: 384x640 5 cars, 1381.5ms\n",
            "Speed: 8.2ms preprocess, 1381.5ms inference, 1.3ms postprocess per image at shape (1, 3, 384, 640)\n",
            "\n",
            "0: 384x640 5 cars, 1309.3ms\n",
            "Speed: 3.9ms preprocess, 1309.3ms inference, 1.4ms postprocess per image at shape (1, 3, 384, 640)\n",
            "\n",
            "0: 384x640 7 cars, 1342.9ms\n",
            "Speed: 6.8ms preprocess, 1342.9ms inference, 1.4ms postprocess per image at shape (1, 3, 384, 640)\n",
            "\n",
            "0: 384x640 7 cars, 1370.6ms\n",
            "Speed: 3.9ms preprocess, 1370.6ms inference, 1.6ms postprocess per image at shape (1, 3, 384, 640)\n",
            "\n",
            "0: 384x640 7 cars, 1719.5ms\n",
            "Speed: 6.1ms preprocess, 1719.5ms inference, 1.8ms postprocess per image at shape (1, 3, 384, 640)\n",
            "\n",
            "0: 384x640 7 cars, 1921.5ms\n",
            "Speed: 9.8ms preprocess, 1921.5ms inference, 1.4ms postprocess per image at shape (1, 3, 384, 640)\n",
            "\n",
            "0: 384x640 7 cars, 1313.8ms\n",
            "Speed: 6.2ms preprocess, 1313.8ms inference, 1.7ms postprocess per image at shape (1, 3, 384, 640)\n",
            "\n",
            "0: 384x640 7 cars, 1351.3ms\n",
            "Speed: 6.9ms preprocess, 1351.3ms inference, 1.6ms postprocess per image at shape (1, 3, 384, 640)\n",
            "\n",
            "0: 384x640 7 cars, 1332.4ms\n",
            "Speed: 7.3ms preprocess, 1332.4ms inference, 1.4ms postprocess per image at shape (1, 3, 384, 640)\n",
            "\n",
            "0: 384x640 7 cars, 1307.9ms\n",
            "Speed: 9.0ms preprocess, 1307.9ms inference, 1.3ms postprocess per image at shape (1, 3, 384, 640)\n",
            "\n",
            "0: 384x640 7 cars, 1299.6ms\n",
            "Speed: 6.2ms preprocess, 1299.6ms inference, 1.2ms postprocess per image at shape (1, 3, 384, 640)\n",
            "\n",
            "0: 384x640 7 cars, 1325.9ms\n",
            "Speed: 6.0ms preprocess, 1325.9ms inference, 1.4ms postprocess per image at shape (1, 3, 384, 640)\n",
            "\n",
            "0: 384x640 7 cars, 1351.9ms\n",
            "Speed: 7.8ms preprocess, 1351.9ms inference, 1.5ms postprocess per image at shape (1, 3, 384, 640)\n",
            "\n",
            "0: 384x640 7 cars, 2035.4ms\n",
            "Speed: 4.1ms preprocess, 2035.4ms inference, 2.1ms postprocess per image at shape (1, 3, 384, 640)\n",
            "\n",
            "0: 384x640 7 cars, 1679.0ms\n",
            "Speed: 8.8ms preprocess, 1679.0ms inference, 1.6ms postprocess per image at shape (1, 3, 384, 640)\n",
            "\n",
            "0: 384x640 7 cars, 1316.2ms\n",
            "Speed: 5.9ms preprocess, 1316.2ms inference, 1.5ms postprocess per image at shape (1, 3, 384, 640)\n",
            "\n",
            "0: 384x640 7 cars, 1350.1ms\n",
            "Speed: 6.4ms preprocess, 1350.1ms inference, 1.5ms postprocess per image at shape (1, 3, 384, 640)\n",
            "\n",
            "0: 384x640 7 cars, 1313.5ms\n",
            "Speed: 5.8ms preprocess, 1313.5ms inference, 1.4ms postprocess per image at shape (1, 3, 384, 640)\n",
            "\n",
            "0: 384x640 8 cars, 1322.6ms\n",
            "Speed: 3.9ms preprocess, 1322.6ms inference, 1.3ms postprocess per image at shape (1, 3, 384, 640)\n",
            "\n",
            "0: 384x640 8 cars, 1322.1ms\n",
            "Speed: 6.7ms preprocess, 1322.1ms inference, 1.1ms postprocess per image at shape (1, 3, 384, 640)\n",
            "\n",
            "0: 384x640 8 cars, 1320.7ms\n",
            "Speed: 5.7ms preprocess, 1320.7ms inference, 1.3ms postprocess per image at shape (1, 3, 384, 640)\n",
            "\n",
            "0: 384x640 8 cars, 1584.2ms\n",
            "Speed: 5.1ms preprocess, 1584.2ms inference, 1.9ms postprocess per image at shape (1, 3, 384, 640)\n",
            "\n",
            "0: 384x640 8 cars, 2029.4ms\n",
            "Speed: 8.2ms preprocess, 2029.4ms inference, 2.3ms postprocess per image at shape (1, 3, 384, 640)\n",
            "\n",
            "0: 384x640 8 cars, 1338.8ms\n",
            "Speed: 4.7ms preprocess, 1338.8ms inference, 1.4ms postprocess per image at shape (1, 3, 384, 640)\n",
            "\n",
            "0: 384x640 8 cars, 1345.3ms\n",
            "Speed: 6.2ms preprocess, 1345.3ms inference, 1.4ms postprocess per image at shape (1, 3, 384, 640)\n",
            "\n",
            "0: 384x640 8 cars, 1337.6ms\n",
            "Speed: 7.8ms preprocess, 1337.6ms inference, 1.5ms postprocess per image at shape (1, 3, 384, 640)\n",
            "\n",
            "0: 384x640 9 cars, 1413.7ms\n",
            "Speed: 4.0ms preprocess, 1413.7ms inference, 1.9ms postprocess per image at shape (1, 3, 384, 640)\n",
            "\n",
            "0: 384x640 8 cars, 1430.3ms\n",
            "Speed: 4.6ms preprocess, 1430.3ms inference, 1.5ms postprocess per image at shape (1, 3, 384, 640)\n",
            "\n",
            "0: 384x640 8 cars, 1357.1ms\n",
            "Speed: 7.5ms preprocess, 1357.1ms inference, 1.4ms postprocess per image at shape (1, 3, 384, 640)\n",
            "\n",
            "0: 384x640 9 cars, 1347.7ms\n",
            "Speed: 4.5ms preprocess, 1347.7ms inference, 1.5ms postprocess per image at shape (1, 3, 384, 640)\n",
            "\n",
            "0: 384x640 8 cars, 1 truck, 1978.5ms\n",
            "Speed: 5.3ms preprocess, 1978.5ms inference, 2.1ms postprocess per image at shape (1, 3, 384, 640)\n",
            "\n",
            "0: 384x640 9 cars, 1 truck, 1670.5ms\n",
            "Speed: 7.1ms preprocess, 1670.5ms inference, 1.9ms postprocess per image at shape (1, 3, 384, 640)\n",
            "\n",
            "0: 384x640 8 cars, 1 truck, 1376.8ms\n",
            "Speed: 8.6ms preprocess, 1376.8ms inference, 1.4ms postprocess per image at shape (1, 3, 384, 640)\n",
            "\n",
            "0: 384x640 10 cars, 1332.9ms\n",
            "Speed: 4.5ms preprocess, 1332.9ms inference, 1.4ms postprocess per image at shape (1, 3, 384, 640)\n",
            "\n",
            "0: 384x640 10 cars, 1316.2ms\n",
            "Speed: 5.5ms preprocess, 1316.2ms inference, 1.1ms postprocess per image at shape (1, 3, 384, 640)\n",
            "\n",
            "0: 384x640 10 cars, 1351.6ms\n",
            "Speed: 7.5ms preprocess, 1351.6ms inference, 1.1ms postprocess per image at shape (1, 3, 384, 640)\n",
            "\n",
            "0: 384x640 11 cars, 1343.4ms\n",
            "Speed: 8.7ms preprocess, 1343.4ms inference, 1.3ms postprocess per image at shape (1, 3, 384, 640)\n",
            "\n",
            "0: 384x640 11 cars, 1328.3ms\n",
            "Speed: 3.8ms preprocess, 1328.3ms inference, 1.7ms postprocess per image at shape (1, 3, 384, 640)\n",
            "\n",
            "0: 384x640 11 cars, 1548.1ms\n",
            "Speed: 3.9ms preprocess, 1548.1ms inference, 1.7ms postprocess per image at shape (1, 3, 384, 640)\n",
            "\n",
            "0: 384x640 11 cars, 2061.8ms\n",
            "Speed: 9.4ms preprocess, 2061.8ms inference, 1.9ms postprocess per image at shape (1, 3, 384, 640)\n",
            "\n",
            "0: 384x640 11 cars, 1350.2ms\n",
            "Speed: 4.9ms preprocess, 1350.2ms inference, 1.4ms postprocess per image at shape (1, 3, 384, 640)\n",
            "\n",
            "0: 384x640 11 cars, 1 truck, 1317.8ms\n",
            "Speed: 7.7ms preprocess, 1317.8ms inference, 2.0ms postprocess per image at shape (1, 3, 384, 640)\n",
            "\n",
            "0: 384x640 12 cars, 1314.7ms\n",
            "Speed: 7.5ms preprocess, 1314.7ms inference, 1.5ms postprocess per image at shape (1, 3, 384, 640)\n",
            "\n",
            "0: 384x640 11 cars, 1318.2ms\n",
            "Speed: 7.9ms preprocess, 1318.2ms inference, 1.4ms postprocess per image at shape (1, 3, 384, 640)\n",
            "\n",
            "0: 384x640 11 cars, 1324.2ms\n",
            "Speed: 7.7ms preprocess, 1324.2ms inference, 1.4ms postprocess per image at shape (1, 3, 384, 640)\n",
            "\n",
            "0: 384x640 10 cars, 1366.6ms\n",
            "Speed: 7.2ms preprocess, 1366.6ms inference, 1.2ms postprocess per image at shape (1, 3, 384, 640)\n",
            "\n",
            "0: 384x640 11 cars, 1382.6ms\n",
            "Speed: 5.6ms preprocess, 1382.6ms inference, 1.2ms postprocess per image at shape (1, 3, 384, 640)\n",
            "\n",
            "0: 384x640 9 cars, 1861.6ms\n",
            "Speed: 3.7ms preprocess, 1861.6ms inference, 1.8ms postprocess per image at shape (1, 3, 384, 640)\n",
            "\n",
            "0: 384x640 9 cars, 1857.8ms\n",
            "Speed: 9.4ms preprocess, 1857.8ms inference, 1.5ms postprocess per image at shape (1, 3, 384, 640)\n",
            "\n",
            "0: 384x640 9 cars, 1 truck, 1372.4ms\n",
            "Speed: 6.1ms preprocess, 1372.4ms inference, 1.4ms postprocess per image at shape (1, 3, 384, 640)\n",
            "\n",
            "0: 384x640 9 cars, 1 truck, 1412.1ms\n",
            "Speed: 5.8ms preprocess, 1412.1ms inference, 2.2ms postprocess per image at shape (1, 3, 384, 640)\n",
            "\n",
            "0: 384x640 9 cars, 1318.5ms\n",
            "Speed: 6.3ms preprocess, 1318.5ms inference, 3.3ms postprocess per image at shape (1, 3, 384, 640)\n",
            "\n",
            "0: 384x640 9 cars, 1332.5ms\n",
            "Speed: 7.0ms preprocess, 1332.5ms inference, 1.4ms postprocess per image at shape (1, 3, 384, 640)\n",
            "\n",
            "0: 384x640 9 cars, 1324.8ms\n",
            "Speed: 4.9ms preprocess, 1324.8ms inference, 1.3ms postprocess per image at shape (1, 3, 384, 640)\n",
            "\n",
            "0: 384x640 10 cars, 1328.2ms\n",
            "Speed: 8.0ms preprocess, 1328.2ms inference, 3.5ms postprocess per image at shape (1, 3, 384, 640)\n",
            "\n",
            "0: 384x640 10 cars, 1504.9ms\n",
            "Speed: 6.3ms preprocess, 1504.9ms inference, 1.9ms postprocess per image at shape (1, 3, 384, 640)\n",
            "\n",
            "0: 384x640 9 cars, 2081.1ms\n",
            "Speed: 11.1ms preprocess, 2081.1ms inference, 1.7ms postprocess per image at shape (1, 3, 384, 640)\n",
            "\n",
            "0: 384x640 9 cars, 1396.7ms\n",
            "Speed: 8.9ms preprocess, 1396.7ms inference, 1.5ms postprocess per image at shape (1, 3, 384, 640)\n",
            "\n",
            "0: 384x640 9 cars, 1345.9ms\n",
            "Speed: 4.1ms preprocess, 1345.9ms inference, 1.5ms postprocess per image at shape (1, 3, 384, 640)\n",
            "\n",
            "0: 384x640 8 cars, 1394.3ms\n",
            "Speed: 8.6ms preprocess, 1394.3ms inference, 1.3ms postprocess per image at shape (1, 3, 384, 640)\n",
            "\n",
            "0: 384x640 7 cars, 1395.2ms\n",
            "Speed: 7.7ms preprocess, 1395.2ms inference, 1.5ms postprocess per image at shape (1, 3, 384, 640)\n",
            "\n",
            "0: 384x640 7 cars, 1341.3ms\n",
            "Speed: 3.8ms preprocess, 1341.3ms inference, 1.3ms postprocess per image at shape (1, 3, 384, 640)\n",
            "\n",
            "0: 384x640 6 cars, 1350.4ms\n",
            "Speed: 3.9ms preprocess, 1350.4ms inference, 1.4ms postprocess per image at shape (1, 3, 384, 640)\n",
            "\n",
            "0: 384x640 7 cars, 1353.1ms\n",
            "Speed: 7.1ms preprocess, 1353.1ms inference, 1.4ms postprocess per image at shape (1, 3, 384, 640)\n",
            "\n",
            "0: 384x640 7 cars, 1856.7ms\n",
            "Speed: 6.5ms preprocess, 1856.7ms inference, 1.7ms postprocess per image at shape (1, 3, 384, 640)\n",
            "\n",
            "0: 384x640 7 cars, 1734.7ms\n",
            "Speed: 6.9ms preprocess, 1734.7ms inference, 1.3ms postprocess per image at shape (1, 3, 384, 640)\n",
            "\n",
            "0: 384x640 8 cars, 1376.8ms\n",
            "Speed: 5.7ms preprocess, 1376.8ms inference, 1.9ms postprocess per image at shape (1, 3, 384, 640)\n",
            "\n",
            "0: 384x640 7 cars, 1343.8ms\n",
            "Speed: 6.3ms preprocess, 1343.8ms inference, 1.3ms postprocess per image at shape (1, 3, 384, 640)\n",
            "\n",
            "0: 384x640 7 cars, 1390.9ms\n",
            "Speed: 6.9ms preprocess, 1390.9ms inference, 1.4ms postprocess per image at shape (1, 3, 384, 640)\n",
            "\n",
            "0: 384x640 7 cars, 1338.7ms\n",
            "Speed: 5.7ms preprocess, 1338.7ms inference, 1.6ms postprocess per image at shape (1, 3, 384, 640)\n",
            "\n",
            "0: 384x640 7 cars, 1292.5ms\n",
            "Speed: 6.2ms preprocess, 1292.5ms inference, 1.8ms postprocess per image at shape (1, 3, 384, 640)\n",
            "\n",
            "0: 384x640 7 cars, 1364.3ms\n",
            "Speed: 7.2ms preprocess, 1364.3ms inference, 1.4ms postprocess per image at shape (1, 3, 384, 640)\n",
            "\n",
            "0: 384x640 7 cars, 1552.5ms\n",
            "Speed: 3.9ms preprocess, 1552.5ms inference, 2.0ms postprocess per image at shape (1, 3, 384, 640)\n",
            "\n",
            "0: 384x640 7 cars, 2033.8ms\n",
            "Speed: 8.5ms preprocess, 2033.8ms inference, 1.4ms postprocess per image at shape (1, 3, 384, 640)\n",
            "\n",
            "0: 384x640 7 cars, 1442.1ms\n",
            "Speed: 8.4ms preprocess, 1442.1ms inference, 1.4ms postprocess per image at shape (1, 3, 384, 640)\n",
            "\n",
            "0: 384x640 6 cars, 1369.0ms\n",
            "Speed: 9.2ms preprocess, 1369.0ms inference, 1.4ms postprocess per image at shape (1, 3, 384, 640)\n",
            "\n",
            "0: 384x640 6 cars, 1346.7ms\n",
            "Speed: 9.3ms preprocess, 1346.7ms inference, 1.3ms postprocess per image at shape (1, 3, 384, 640)\n",
            "\n",
            "0: 384x640 8 cars, 1322.4ms\n",
            "Speed: 4.5ms preprocess, 1322.4ms inference, 1.4ms postprocess per image at shape (1, 3, 384, 640)\n",
            "\n",
            "0: 384x640 8 cars, 1337.2ms\n",
            "Speed: 4.1ms preprocess, 1337.2ms inference, 1.2ms postprocess per image at shape (1, 3, 384, 640)\n",
            "\n",
            "0: 384x640 8 cars, 1316.2ms\n",
            "Speed: 6.3ms preprocess, 1316.2ms inference, 1.2ms postprocess per image at shape (1, 3, 384, 640)\n",
            "\n",
            "0: 384x640 7 cars, 1335.2ms\n",
            "Speed: 5.6ms preprocess, 1335.2ms inference, 1.5ms postprocess per image at shape (1, 3, 384, 640)\n",
            "\n",
            "0: 384x640 7 cars, 1778.2ms\n",
            "Speed: 6.0ms preprocess, 1778.2ms inference, 1.8ms postprocess per image at shape (1, 3, 384, 640)\n",
            "\n",
            "0: 384x640 7 cars, 1858.6ms\n",
            "Speed: 6.1ms preprocess, 1858.6ms inference, 2.0ms postprocess per image at shape (1, 3, 384, 640)\n",
            "\n",
            "0: 384x640 8 cars, 1326.8ms\n",
            "Speed: 4.3ms preprocess, 1326.8ms inference, 1.4ms postprocess per image at shape (1, 3, 384, 640)\n",
            "\n",
            "0: 384x640 6 cars, 1337.8ms\n",
            "Speed: 4.6ms preprocess, 1337.8ms inference, 1.3ms postprocess per image at shape (1, 3, 384, 640)\n",
            "\n",
            "0: 384x640 8 cars, 1317.2ms\n",
            "Speed: 5.3ms preprocess, 1317.2ms inference, 1.5ms postprocess per image at shape (1, 3, 384, 640)\n",
            "\n",
            "0: 384x640 9 cars, 1310.6ms\n",
            "Speed: 5.8ms preprocess, 1310.6ms inference, 3.5ms postprocess per image at shape (1, 3, 384, 640)\n",
            "\n",
            "0: 384x640 9 cars, 1335.0ms\n",
            "Speed: 4.8ms preprocess, 1335.0ms inference, 3.7ms postprocess per image at shape (1, 3, 384, 640)\n",
            "\n",
            "0: 384x640 9 cars, 1336.3ms\n",
            "Speed: 4.4ms preprocess, 1336.3ms inference, 1.5ms postprocess per image at shape (1, 3, 384, 640)\n",
            "\n",
            "0: 384x640 9 cars, 1326.4ms\n",
            "Speed: 7.6ms preprocess, 1326.4ms inference, 1.1ms postprocess per image at shape (1, 3, 384, 640)\n",
            "\n",
            "0: 384x640 8 cars, 2057.7ms\n",
            "Speed: 5.9ms preprocess, 2057.7ms inference, 2.0ms postprocess per image at shape (1, 3, 384, 640)\n",
            "\n",
            "0: 384x640 10 cars, 1622.5ms\n",
            "Speed: 8.9ms preprocess, 1622.5ms inference, 1.4ms postprocess per image at shape (1, 3, 384, 640)\n",
            "\n",
            "0: 384x640 10 cars, 2036.6ms\n",
            "Speed: 9.3ms preprocess, 2036.6ms inference, 1.9ms postprocess per image at shape (1, 3, 384, 640)\n",
            "\n",
            "0: 384x640 10 cars, 1728.3ms\n",
            "Speed: 9.0ms preprocess, 1728.3ms inference, 1.2ms postprocess per image at shape (1, 3, 384, 640)\n",
            "\n",
            "0: 384x640 10 cars, 1298.0ms\n",
            "Speed: 7.7ms preprocess, 1298.0ms inference, 1.2ms postprocess per image at shape (1, 3, 384, 640)\n",
            "\n",
            "0: 384x640 9 cars, 1325.4ms\n",
            "Speed: 6.1ms preprocess, 1325.4ms inference, 1.3ms postprocess per image at shape (1, 3, 384, 640)\n",
            "\n",
            "0: 384x640 11 cars, 1340.5ms\n",
            "Speed: 6.3ms preprocess, 1340.5ms inference, 1.5ms postprocess per image at shape (1, 3, 384, 640)\n",
            "\n",
            "0: 384x640 10 cars, 1426.0ms\n",
            "Speed: 3.9ms preprocess, 1426.0ms inference, 2.1ms postprocess per image at shape (1, 3, 384, 640)\n",
            "\n",
            "0: 384x640 10 cars, 2052.4ms\n",
            "Speed: 5.6ms preprocess, 2052.4ms inference, 2.0ms postprocess per image at shape (1, 3, 384, 640)\n",
            "\n",
            "0: 384x640 11 cars, 1463.2ms\n",
            "Speed: 6.2ms preprocess, 1463.2ms inference, 1.3ms postprocess per image at shape (1, 3, 384, 640)\n",
            "\n",
            "0: 384x640 11 cars, 1338.6ms\n",
            "Speed: 4.2ms preprocess, 1338.6ms inference, 1.4ms postprocess per image at shape (1, 3, 384, 640)\n",
            "\n",
            "0: 384x640 11 cars, 1323.4ms\n",
            "Speed: 3.8ms preprocess, 1323.4ms inference, 1.5ms postprocess per image at shape (1, 3, 384, 640)\n",
            "\n",
            "0: 384x640 11 cars, 1341.8ms\n",
            "Speed: 5.8ms preprocess, 1341.8ms inference, 1.6ms postprocess per image at shape (1, 3, 384, 640)\n",
            "\n",
            "0: 384x640 10 cars, 1319.2ms\n",
            "Speed: 5.8ms preprocess, 1319.2ms inference, 3.5ms postprocess per image at shape (1, 3, 384, 640)\n",
            "\n",
            "0: 384x640 11 cars, 1371.2ms\n",
            "Speed: 4.2ms preprocess, 1371.2ms inference, 1.3ms postprocess per image at shape (1, 3, 384, 640)\n",
            "\n",
            "0: 384x640 11 cars, 1313.8ms\n",
            "Speed: 5.8ms preprocess, 1313.8ms inference, 1.4ms postprocess per image at shape (1, 3, 384, 640)\n",
            "\n",
            "0: 384x640 11 cars, 1704.5ms\n",
            "Speed: 5.6ms preprocess, 1704.5ms inference, 1.5ms postprocess per image at shape (1, 3, 384, 640)\n",
            "\n",
            "0: 384x640 11 cars, 1988.0ms\n",
            "Speed: 6.1ms preprocess, 1988.0ms inference, 1.5ms postprocess per image at shape (1, 3, 384, 640)\n",
            "\n",
            "0: 384x640 11 cars, 1333.1ms\n",
            "Speed: 5.0ms preprocess, 1333.1ms inference, 1.5ms postprocess per image at shape (1, 3, 384, 640)\n",
            "\n",
            "0: 384x640 11 cars, 1359.6ms\n",
            "Speed: 8.3ms preprocess, 1359.6ms inference, 2.0ms postprocess per image at shape (1, 3, 384, 640)\n",
            "\n",
            "0: 384x640 10 cars, 1321.2ms\n",
            "Speed: 7.8ms preprocess, 1321.2ms inference, 1.2ms postprocess per image at shape (1, 3, 384, 640)\n",
            "\n",
            "0: 384x640 10 cars, 1351.6ms\n",
            "Speed: 6.1ms preprocess, 1351.6ms inference, 1.5ms postprocess per image at shape (1, 3, 384, 640)\n",
            "\n",
            "0: 384x640 9 cars, 1404.1ms\n",
            "Speed: 6.7ms preprocess, 1404.1ms inference, 1.4ms postprocess per image at shape (1, 3, 384, 640)\n",
            "\n",
            "0: 384x640 9 cars, 1342.7ms\n",
            "Speed: 6.3ms preprocess, 1342.7ms inference, 1.4ms postprocess per image at shape (1, 3, 384, 640)\n",
            "\n",
            "0: 384x640 10 cars, 1358.7ms\n",
            "Speed: 5.6ms preprocess, 1358.7ms inference, 1.5ms postprocess per image at shape (1, 3, 384, 640)\n",
            "\n",
            "0: 384x640 10 cars, 2086.9ms\n",
            "Speed: 6.4ms preprocess, 2086.9ms inference, 1.6ms postprocess per image at shape (1, 3, 384, 640)\n",
            "\n",
            "0: 384x640 10 cars, 1670.9ms\n",
            "Speed: 10.1ms preprocess, 1670.9ms inference, 1.4ms postprocess per image at shape (1, 3, 384, 640)\n",
            "\n",
            "0: 384x640 10 cars, 1351.7ms\n",
            "Speed: 6.5ms preprocess, 1351.7ms inference, 1.5ms postprocess per image at shape (1, 3, 384, 640)\n",
            "\n",
            "0: 384x640 11 cars, 1323.5ms\n",
            "Speed: 6.4ms preprocess, 1323.5ms inference, 1.4ms postprocess per image at shape (1, 3, 384, 640)\n",
            "\n",
            "0: 384x640 11 cars, 1321.6ms\n",
            "Speed: 5.0ms preprocess, 1321.6ms inference, 4.0ms postprocess per image at shape (1, 3, 384, 640)\n",
            "\n",
            "0: 384x640 11 cars, 1309.5ms\n",
            "Speed: 7.3ms preprocess, 1309.5ms inference, 3.7ms postprocess per image at shape (1, 3, 384, 640)\n",
            "\n",
            "0: 384x640 11 cars, 1334.7ms\n",
            "Speed: 5.1ms preprocess, 1334.7ms inference, 1.4ms postprocess per image at shape (1, 3, 384, 640)\n",
            "\n",
            "0: 384x640 11 cars, 1372.1ms\n",
            "Speed: 5.2ms preprocess, 1372.1ms inference, 1.3ms postprocess per image at shape (1, 3, 384, 640)\n",
            "\n",
            "0: 384x640 10 cars, 1609.4ms\n",
            "Speed: 7.8ms preprocess, 1609.4ms inference, 1.9ms postprocess per image at shape (1, 3, 384, 640)\n",
            "\n",
            "0: 384x640 9 cars, 2001.4ms\n",
            "Speed: 7.9ms preprocess, 2001.4ms inference, 4.4ms postprocess per image at shape (1, 3, 384, 640)\n",
            "\n",
            "0: 384x640 9 cars, 1328.4ms\n",
            "Speed: 3.9ms preprocess, 1328.4ms inference, 1.2ms postprocess per image at shape (1, 3, 384, 640)\n",
            "\n",
            "0: 384x640 9 cars, 1333.2ms\n",
            "Speed: 5.9ms preprocess, 1333.2ms inference, 4.0ms postprocess per image at shape (1, 3, 384, 640)\n",
            "\n",
            "0: 384x640 9 cars, 1334.4ms\n",
            "Speed: 8.0ms preprocess, 1334.4ms inference, 1.5ms postprocess per image at shape (1, 3, 384, 640)\n",
            "\n",
            "0: 384x640 9 cars, 1355.3ms\n",
            "Speed: 6.0ms preprocess, 1355.3ms inference, 1.2ms postprocess per image at shape (1, 3, 384, 640)\n",
            "\n",
            "0: 384x640 8 cars, 1376.5ms\n",
            "Speed: 3.9ms preprocess, 1376.5ms inference, 1.3ms postprocess per image at shape (1, 3, 384, 640)\n",
            "\n",
            "0: 384x640 8 cars, 1372.7ms\n",
            "Speed: 7.9ms preprocess, 1372.7ms inference, 1.4ms postprocess per image at shape (1, 3, 384, 640)\n",
            "\n",
            "0: 384x640 8 cars, 1382.5ms\n",
            "Speed: 3.9ms preprocess, 1382.5ms inference, 1.3ms postprocess per image at shape (1, 3, 384, 640)\n",
            "\n",
            "0: 384x640 8 cars, 2012.3ms\n",
            "Speed: 7.5ms preprocess, 2012.3ms inference, 2.1ms postprocess per image at shape (1, 3, 384, 640)\n",
            "\n",
            "0: 384x640 8 cars, 1666.7ms\n",
            "Speed: 3.7ms preprocess, 1666.7ms inference, 1.2ms postprocess per image at shape (1, 3, 384, 640)\n",
            "\n",
            "0: 384x640 8 cars, 1334.9ms\n",
            "Speed: 3.9ms preprocess, 1334.9ms inference, 4.8ms postprocess per image at shape (1, 3, 384, 640)\n",
            "\n",
            "0: 384x640 8 cars, 1324.9ms\n",
            "Speed: 7.4ms preprocess, 1324.9ms inference, 1.5ms postprocess per image at shape (1, 3, 384, 640)\n",
            "\n",
            "0: 384x640 9 cars, 1330.1ms\n",
            "Speed: 5.9ms preprocess, 1330.1ms inference, 4.4ms postprocess per image at shape (1, 3, 384, 640)\n",
            "\n",
            "0: 384x640 9 cars, 1343.8ms\n",
            "Speed: 4.7ms preprocess, 1343.8ms inference, 1.4ms postprocess per image at shape (1, 3, 384, 640)\n",
            "\n",
            "0: 384x640 9 cars, 1337.1ms\n",
            "Speed: 8.0ms preprocess, 1337.1ms inference, 3.8ms postprocess per image at shape (1, 3, 384, 640)\n",
            "\n",
            "0: 384x640 8 cars, 1305.8ms\n",
            "Speed: 6.3ms preprocess, 1305.8ms inference, 1.5ms postprocess per image at shape (1, 3, 384, 640)\n",
            "\n",
            "0: 384x640 9 cars, 1517.0ms\n",
            "Speed: 5.5ms preprocess, 1517.0ms inference, 1.9ms postprocess per image at shape (1, 3, 384, 640)\n",
            "\n",
            "0: 384x640 9 cars, 2088.0ms\n",
            "Speed: 7.3ms preprocess, 2088.0ms inference, 2.4ms postprocess per image at shape (1, 3, 384, 640)\n",
            "\n",
            "0: 384x640 9 cars, 1345.1ms\n",
            "Speed: 9.0ms preprocess, 1345.1ms inference, 1.7ms postprocess per image at shape (1, 3, 384, 640)\n",
            "\n",
            "0: 384x640 9 cars, 1318.1ms\n",
            "Speed: 7.4ms preprocess, 1318.1ms inference, 1.2ms postprocess per image at shape (1, 3, 384, 640)\n",
            "\n",
            "0: 384x640 9 cars, 1350.0ms\n",
            "Speed: 5.7ms preprocess, 1350.0ms inference, 1.9ms postprocess per image at shape (1, 3, 384, 640)\n",
            "\n",
            "0: 384x640 9 cars, 1315.7ms\n",
            "Speed: 6.0ms preprocess, 1315.7ms inference, 1.3ms postprocess per image at shape (1, 3, 384, 640)\n",
            "\n",
            "0: 384x640 9 cars, 1351.4ms\n",
            "Speed: 6.4ms preprocess, 1351.4ms inference, 1.4ms postprocess per image at shape (1, 3, 384, 640)\n",
            "\n",
            "0: 384x640 8 cars, 1317.3ms\n",
            "Speed: 4.8ms preprocess, 1317.3ms inference, 1.2ms postprocess per image at shape (1, 3, 384, 640)\n",
            "\n",
            "0: 384x640 9 cars, 1385.4ms\n",
            "Speed: 6.8ms preprocess, 1385.4ms inference, 1.5ms postprocess per image at shape (1, 3, 384, 640)\n",
            "\n",
            "0: 384x640 9 cars, 1862.9ms\n",
            "Speed: 7.3ms preprocess, 1862.9ms inference, 1.5ms postprocess per image at shape (1, 3, 384, 640)\n",
            "\n",
            "0: 384x640 9 cars, 1795.8ms\n",
            "Speed: 4.7ms preprocess, 1795.8ms inference, 1.3ms postprocess per image at shape (1, 3, 384, 640)\n",
            "\n",
            "0: 384x640 9 cars, 1380.7ms\n",
            "Speed: 4.3ms preprocess, 1380.7ms inference, 1.5ms postprocess per image at shape (1, 3, 384, 640)\n",
            "\n",
            "0: 384x640 11 cars, 1329.4ms\n",
            "Speed: 7.3ms preprocess, 1329.4ms inference, 1.2ms postprocess per image at shape (1, 3, 384, 640)\n",
            "\n",
            "0: 384x640 13 cars, 1309.4ms\n",
            "Speed: 6.6ms preprocess, 1309.4ms inference, 1.4ms postprocess per image at shape (1, 3, 384, 640)\n",
            "\n",
            "0: 384x640 13 cars, 1319.2ms\n",
            "Speed: 6.1ms preprocess, 1319.2ms inference, 1.5ms postprocess per image at shape (1, 3, 384, 640)\n",
            "\n",
            "0: 384x640 13 cars, 1332.1ms\n",
            "Speed: 3.8ms preprocess, 1332.1ms inference, 1.4ms postprocess per image at shape (1, 3, 384, 640)\n",
            "\n",
            "0: 384x640 11 cars, 1326.9ms\n",
            "Speed: 5.7ms preprocess, 1326.9ms inference, 1.4ms postprocess per image at shape (1, 3, 384, 640)\n",
            "\n",
            "0: 384x640 11 cars, 1416.3ms\n",
            "Speed: 7.0ms preprocess, 1416.3ms inference, 1.8ms postprocess per image at shape (1, 3, 384, 640)\n",
            "\n",
            "0: 384x640 13 cars, 2115.1ms\n",
            "Speed: 5.1ms preprocess, 2115.1ms inference, 2.0ms postprocess per image at shape (1, 3, 384, 640)\n",
            "\n",
            "0: 384x640 11 cars, 1492.3ms\n",
            "Speed: 3.9ms preprocess, 1492.3ms inference, 1.3ms postprocess per image at shape (1, 3, 384, 640)\n",
            "\n",
            "0: 384x640 12 cars, 1323.0ms\n",
            "Speed: 6.6ms preprocess, 1323.0ms inference, 1.5ms postprocess per image at shape (1, 3, 384, 640)\n",
            "\n",
            "0: 384x640 12 cars, 1351.1ms\n",
            "Speed: 6.1ms preprocess, 1351.1ms inference, 1.5ms postprocess per image at shape (1, 3, 384, 640)\n",
            "\n",
            "0: 384x640 12 cars, 1337.1ms\n",
            "Speed: 6.5ms preprocess, 1337.1ms inference, 1.7ms postprocess per image at shape (1, 3, 384, 640)\n",
            "\n",
            "0: 384x640 11 cars, 1331.9ms\n",
            "Speed: 4.5ms preprocess, 1331.9ms inference, 1.4ms postprocess per image at shape (1, 3, 384, 640)\n",
            "\n",
            "0: 384x640 11 cars, 1330.9ms\n",
            "Speed: 8.2ms preprocess, 1330.9ms inference, 1.4ms postprocess per image at shape (1, 3, 384, 640)\n",
            "\n",
            "0: 384x640 12 cars, 1309.3ms\n",
            "Speed: 5.9ms preprocess, 1309.3ms inference, 1.5ms postprocess per image at shape (1, 3, 384, 640)\n",
            "\n",
            "0: 384x640 10 cars, 1716.6ms\n",
            "Speed: 6.0ms preprocess, 1716.6ms inference, 5.2ms postprocess per image at shape (1, 3, 384, 640)\n",
            "\n",
            "0: 384x640 10 cars, 1911.7ms\n",
            "Speed: 5.8ms preprocess, 1911.7ms inference, 1.9ms postprocess per image at shape (1, 3, 384, 640)\n",
            "\n",
            "0: 384x640 10 cars, 1389.6ms\n",
            "Speed: 4.7ms preprocess, 1389.6ms inference, 1.4ms postprocess per image at shape (1, 3, 384, 640)\n",
            "\n",
            "0: 384x640 10 cars, 1323.4ms\n",
            "Speed: 6.7ms preprocess, 1323.4ms inference, 3.9ms postprocess per image at shape (1, 3, 384, 640)\n",
            "\n",
            "0: 384x640 11 cars, 1359.6ms\n",
            "Speed: 7.2ms preprocess, 1359.6ms inference, 1.3ms postprocess per image at shape (1, 3, 384, 640)\n",
            "\n",
            "0: 384x640 11 cars, 1314.6ms\n",
            "Speed: 5.3ms preprocess, 1314.6ms inference, 1.3ms postprocess per image at shape (1, 3, 384, 640)\n",
            "\n",
            "0: 384x640 8 cars, 1316.9ms\n",
            "Speed: 6.9ms preprocess, 1316.9ms inference, 1.3ms postprocess per image at shape (1, 3, 384, 640)\n",
            "\n",
            "0: 384x640 8 cars, 1306.8ms\n",
            "Speed: 7.6ms preprocess, 1306.8ms inference, 1.8ms postprocess per image at shape (1, 3, 384, 640)\n",
            "\n",
            "0: 384x640 9 cars, 1314.4ms\n",
            "Speed: 6.6ms preprocess, 1314.4ms inference, 1.5ms postprocess per image at shape (1, 3, 384, 640)\n",
            "\n",
            "0: 384x640 8 cars, 1974.1ms\n",
            "Speed: 4.8ms preprocess, 1974.1ms inference, 2.0ms postprocess per image at shape (1, 3, 384, 640)\n",
            "\n",
            "0: 384x640 8 cars, 1645.5ms\n",
            "Speed: 10.0ms preprocess, 1645.5ms inference, 1.5ms postprocess per image at shape (1, 3, 384, 640)\n",
            "\n",
            "0: 384x640 8 cars, 1333.2ms\n",
            "Speed: 5.4ms preprocess, 1333.2ms inference, 1.5ms postprocess per image at shape (1, 3, 384, 640)\n",
            "\n",
            "0: 384x640 9 cars, 1390.9ms\n",
            "Speed: 4.9ms preprocess, 1390.9ms inference, 1.2ms postprocess per image at shape (1, 3, 384, 640)\n",
            "\n",
            "0: 384x640 9 cars, 1361.7ms\n",
            "Speed: 8.9ms preprocess, 1361.7ms inference, 1.4ms postprocess per image at shape (1, 3, 384, 640)\n",
            "\n",
            "0: 384x640 12 cars, 1318.1ms\n",
            "Speed: 5.5ms preprocess, 1318.1ms inference, 1.6ms postprocess per image at shape (1, 3, 384, 640)\n",
            "\n",
            "0: 384x640 11 cars, 1315.2ms\n",
            "Speed: 3.7ms preprocess, 1315.2ms inference, 1.4ms postprocess per image at shape (1, 3, 384, 640)\n",
            "\n",
            "0: 384x640 9 cars, 1337.7ms\n",
            "Speed: 5.6ms preprocess, 1337.7ms inference, 1.6ms postprocess per image at shape (1, 3, 384, 640)\n",
            "\n",
            "0: 384x640 8 cars, 1601.5ms\n",
            "Speed: 5.8ms preprocess, 1601.5ms inference, 1.8ms postprocess per image at shape (1, 3, 384, 640)\n",
            "\n",
            "0: 384x640 9 cars, 2029.5ms\n",
            "Speed: 5.4ms preprocess, 2029.5ms inference, 1.4ms postprocess per image at shape (1, 3, 384, 640)\n",
            "\n",
            "0: 384x640 9 cars, 1329.8ms\n",
            "Speed: 7.2ms preprocess, 1329.8ms inference, 1.4ms postprocess per image at shape (1, 3, 384, 640)\n",
            "\n",
            "0: 384x640 11 cars, 1339.2ms\n",
            "Speed: 9.3ms preprocess, 1339.2ms inference, 3.4ms postprocess per image at shape (1, 3, 384, 640)\n",
            "\n",
            "0: 384x640 11 cars, 1310.5ms\n",
            "Speed: 5.7ms preprocess, 1310.5ms inference, 1.2ms postprocess per image at shape (1, 3, 384, 640)\n",
            "\n",
            "0: 384x640 11 cars, 1357.9ms\n",
            "Speed: 5.8ms preprocess, 1357.9ms inference, 1.3ms postprocess per image at shape (1, 3, 384, 640)\n",
            "\n",
            "0: 384x640 9 cars, 1349.1ms\n",
            "Speed: 6.4ms preprocess, 1349.1ms inference, 1.7ms postprocess per image at shape (1, 3, 384, 640)\n",
            "\n",
            "0: 384x640 9 cars, 1321.3ms\n",
            "Speed: 8.2ms preprocess, 1321.3ms inference, 3.8ms postprocess per image at shape (1, 3, 384, 640)\n",
            "\n",
            "0: 384x640 9 cars, 1345.9ms\n",
            "Speed: 4.6ms preprocess, 1345.9ms inference, 1.4ms postprocess per image at shape (1, 3, 384, 640)\n",
            "\n",
            "0: 384x640 10 cars, 1953.7ms\n",
            "Speed: 7.7ms preprocess, 1953.7ms inference, 1.6ms postprocess per image at shape (1, 3, 384, 640)\n",
            "\n",
            "0: 384x640 10 cars, 1668.8ms\n",
            "Speed: 6.1ms preprocess, 1668.8ms inference, 1.4ms postprocess per image at shape (1, 3, 384, 640)\n",
            "\n",
            "0: 384x640 9 cars, 1357.2ms\n",
            "Speed: 6.7ms preprocess, 1357.2ms inference, 1.3ms postprocess per image at shape (1, 3, 384, 640)\n",
            "\n",
            "0: 384x640 9 cars, 1338.9ms\n",
            "Speed: 9.0ms preprocess, 1338.9ms inference, 1.4ms postprocess per image at shape (1, 3, 384, 640)\n",
            "\n",
            "0: 384x640 10 cars, 1321.0ms\n",
            "Speed: 5.7ms preprocess, 1321.0ms inference, 1.4ms postprocess per image at shape (1, 3, 384, 640)\n",
            "\n",
            "0: 384x640 10 cars, 1335.3ms\n",
            "Speed: 5.8ms preprocess, 1335.3ms inference, 1.1ms postprocess per image at shape (1, 3, 384, 640)\n",
            "\n",
            "0: 384x640 12 cars, 1293.1ms\n",
            "Speed: 4.4ms preprocess, 1293.1ms inference, 1.4ms postprocess per image at shape (1, 3, 384, 640)\n",
            "\n",
            "0: 384x640 12 cars, 1394.8ms\n",
            "Speed: 7.9ms preprocess, 1394.8ms inference, 1.5ms postprocess per image at shape (1, 3, 384, 640)\n",
            "\n",
            "0: 384x640 11 cars, 1501.1ms\n",
            "Speed: 5.9ms preprocess, 1501.1ms inference, 1.8ms postprocess per image at shape (1, 3, 384, 640)\n",
            "\n",
            "0: 384x640 11 cars, 2063.4ms\n",
            "Speed: 7.0ms preprocess, 2063.4ms inference, 2.0ms postprocess per image at shape (1, 3, 384, 640)\n",
            "\n",
            "0: 384x640 11 cars, 1369.1ms\n",
            "Speed: 5.9ms preprocess, 1369.1ms inference, 1.1ms postprocess per image at shape (1, 3, 384, 640)\n",
            "\n",
            "0: 384x640 11 cars, 1376.6ms\n",
            "Speed: 9.1ms preprocess, 1376.6ms inference, 1.4ms postprocess per image at shape (1, 3, 384, 640)\n",
            "\n",
            "0: 384x640 11 cars, 1293.4ms\n",
            "Speed: 7.9ms preprocess, 1293.4ms inference, 1.3ms postprocess per image at shape (1, 3, 384, 640)\n",
            "\n",
            "0: 384x640 11 cars, 1372.8ms\n",
            "Speed: 3.8ms preprocess, 1372.8ms inference, 1.4ms postprocess per image at shape (1, 3, 384, 640)\n",
            "\n",
            "0: 384x640 10 cars, 1333.8ms\n",
            "Speed: 5.8ms preprocess, 1333.8ms inference, 1.3ms postprocess per image at shape (1, 3, 384, 640)\n",
            "\n",
            "0: 384x640 10 cars, 1318.4ms\n",
            "Speed: 6.3ms preprocess, 1318.4ms inference, 1.4ms postprocess per image at shape (1, 3, 384, 640)\n",
            "\n",
            "0: 384x640 10 cars, 1371.4ms\n",
            "Speed: 5.9ms preprocess, 1371.4ms inference, 1.2ms postprocess per image at shape (1, 3, 384, 640)\n",
            "\n",
            "0: 384x640 10 cars, 1883.5ms\n",
            "Speed: 5.8ms preprocess, 1883.5ms inference, 1.5ms postprocess per image at shape (1, 3, 384, 640)\n",
            "\n",
            "0: 384x640 9 cars, 1794.2ms\n",
            "Speed: 7.7ms preprocess, 1794.2ms inference, 1.3ms postprocess per image at shape (1, 3, 384, 640)\n",
            "\n",
            "0: 384x640 9 cars, 1321.0ms\n",
            "Speed: 5.1ms preprocess, 1321.0ms inference, 1.4ms postprocess per image at shape (1, 3, 384, 640)\n",
            "\n",
            "0: 384x640 9 cars, 1342.8ms\n",
            "Speed: 4.8ms preprocess, 1342.8ms inference, 1.4ms postprocess per image at shape (1, 3, 384, 640)\n",
            "\n",
            "0: 384x640 9 cars, 1331.2ms\n",
            "Speed: 7.6ms preprocess, 1331.2ms inference, 1.1ms postprocess per image at shape (1, 3, 384, 640)\n",
            "\n",
            "0: 384x640 9 cars, 1290.8ms\n",
            "Speed: 5.1ms preprocess, 1290.8ms inference, 1.3ms postprocess per image at shape (1, 3, 384, 640)\n",
            "\n",
            "0: 384x640 9 cars, 1317.3ms\n",
            "Speed: 7.2ms preprocess, 1317.3ms inference, 1.5ms postprocess per image at shape (1, 3, 384, 640)\n",
            "\n",
            "0: 384x640 9 cars, 1330.4ms\n",
            "Speed: 8.2ms preprocess, 1330.4ms inference, 1.5ms postprocess per image at shape (1, 3, 384, 640)\n",
            "\n",
            "0: 384x640 8 cars, 1354.8ms\n",
            "Speed: 7.9ms preprocess, 1354.8ms inference, 2.3ms postprocess per image at shape (1, 3, 384, 640)\n",
            "\n",
            "0: 384x640 8 cars, 2077.3ms\n",
            "Speed: 8.4ms preprocess, 2077.3ms inference, 1.8ms postprocess per image at shape (1, 3, 384, 640)\n",
            "\n",
            "0: 384x640 8 cars, 1496.5ms\n",
            "Speed: 14.6ms preprocess, 1496.5ms inference, 1.3ms postprocess per image at shape (1, 3, 384, 640)\n",
            "\n",
            "0: 384x640 8 cars, 1353.3ms\n",
            "Speed: 8.5ms preprocess, 1353.3ms inference, 1.4ms postprocess per image at shape (1, 3, 384, 640)\n",
            "\n",
            "0: 384x640 8 cars, 1317.7ms\n",
            "Speed: 3.9ms preprocess, 1317.7ms inference, 1.4ms postprocess per image at shape (1, 3, 384, 640)\n",
            "\n",
            "0: 384x640 9 cars, 1314.3ms\n",
            "Speed: 6.5ms preprocess, 1314.3ms inference, 3.9ms postprocess per image at shape (1, 3, 384, 640)\n",
            "\n",
            "0: 384x640 9 cars, 1576.0ms\n",
            "Speed: 4.8ms preprocess, 1576.0ms inference, 1.5ms postprocess per image at shape (1, 3, 384, 640)\n",
            "\n",
            "0: 384x640 9 cars, 2003.4ms\n",
            "Speed: 8.0ms preprocess, 2003.4ms inference, 6.5ms postprocess per image at shape (1, 3, 384, 640)\n",
            "\n",
            "0: 384x640 9 cars, 1573.7ms\n",
            "Speed: 5.1ms preprocess, 1573.7ms inference, 1.6ms postprocess per image at shape (1, 3, 384, 640)\n",
            "\n",
            "0: 384x640 9 cars, 2040.9ms\n",
            "Speed: 4.4ms preprocess, 2040.9ms inference, 2.0ms postprocess per image at shape (1, 3, 384, 640)\n",
            "\n",
            "0: 384x640 9 cars, 1432.9ms\n",
            "Speed: 6.6ms preprocess, 1432.9ms inference, 1.3ms postprocess per image at shape (1, 3, 384, 640)\n",
            "\n",
            "0: 384x640 10 cars, 1323.9ms\n",
            "Speed: 7.5ms preprocess, 1323.9ms inference, 1.3ms postprocess per image at shape (1, 3, 384, 640)\n",
            "\n",
            "0: 384x640 10 cars, 1401.9ms\n",
            "Speed: 6.1ms preprocess, 1401.9ms inference, 1.5ms postprocess per image at shape (1, 3, 384, 640)\n",
            "\n",
            "0: 384x640 9 cars, 1416.0ms\n",
            "Speed: 4.3ms preprocess, 1416.0ms inference, 1.5ms postprocess per image at shape (1, 3, 384, 640)\n",
            "\n",
            "0: 384x640 8 cars, 1421.0ms\n",
            "Speed: 4.8ms preprocess, 1421.0ms inference, 1.4ms postprocess per image at shape (1, 3, 384, 640)\n",
            "\n",
            "0: 384x640 8 cars, 1305.2ms\n",
            "Speed: 5.4ms preprocess, 1305.2ms inference, 1.3ms postprocess per image at shape (1, 3, 384, 640)\n",
            "\n",
            "0: 384x640 8 cars, 1327.5ms\n",
            "Speed: 6.2ms preprocess, 1327.5ms inference, 1.4ms postprocess per image at shape (1, 3, 384, 640)\n",
            "\n",
            "0: 384x640 8 cars, 1 truck, 1828.0ms\n",
            "Speed: 3.6ms preprocess, 1828.0ms inference, 2.0ms postprocess per image at shape (1, 3, 384, 640)\n",
            "\n",
            "0: 384x640 9 cars, 1802.6ms\n",
            "Speed: 10.1ms preprocess, 1802.6ms inference, 1.5ms postprocess per image at shape (1, 3, 384, 640)\n",
            "\n",
            "0: 384x640 8 cars, 1326.0ms\n",
            "Speed: 7.4ms preprocess, 1326.0ms inference, 2.0ms postprocess per image at shape (1, 3, 384, 640)\n",
            "\n",
            "0: 384x640 9 cars, 1320.2ms\n",
            "Speed: 6.2ms preprocess, 1320.2ms inference, 1.4ms postprocess per image at shape (1, 3, 384, 640)\n",
            "\n",
            "0: 384x640 9 cars, 1319.7ms\n",
            "Speed: 5.3ms preprocess, 1319.7ms inference, 1.6ms postprocess per image at shape (1, 3, 384, 640)\n",
            "\n",
            "0: 384x640 9 cars, 1400.5ms\n",
            "Speed: 6.4ms preprocess, 1400.5ms inference, 1.2ms postprocess per image at shape (1, 3, 384, 640)\n",
            "\n",
            "0: 384x640 9 cars, 1314.4ms\n",
            "Speed: 7.8ms preprocess, 1314.4ms inference, 1.3ms postprocess per image at shape (1, 3, 384, 640)\n",
            "\n",
            "0: 384x640 9 cars, 1357.3ms\n",
            "Speed: 3.7ms preprocess, 1357.3ms inference, 1.4ms postprocess per image at shape (1, 3, 384, 640)\n",
            "\n",
            "0: 384x640 9 cars, 1373.1ms\n",
            "Speed: 6.5ms preprocess, 1373.1ms inference, 1.8ms postprocess per image at shape (1, 3, 384, 640)\n",
            "\n",
            "0: 384x640 9 cars, 2043.4ms\n",
            "Speed: 7.0ms preprocess, 2043.4ms inference, 1.9ms postprocess per image at shape (1, 3, 384, 640)\n",
            "\n",
            "0: 384x640 9 cars, 1498.0ms\n",
            "Speed: 5.5ms preprocess, 1498.0ms inference, 1.5ms postprocess per image at shape (1, 3, 384, 640)\n",
            "\n",
            "0: 384x640 9 cars, 1358.7ms\n",
            "Speed: 5.4ms preprocess, 1358.7ms inference, 1.3ms postprocess per image at shape (1, 3, 384, 640)\n",
            "\n",
            "0: 384x640 9 cars, 1336.7ms\n",
            "Speed: 6.7ms preprocess, 1336.7ms inference, 1.3ms postprocess per image at shape (1, 3, 384, 640)\n",
            "\n",
            "0: 384x640 9 cars, 1311.4ms\n",
            "Speed: 3.7ms preprocess, 1311.4ms inference, 1.3ms postprocess per image at shape (1, 3, 384, 640)\n",
            "\n",
            "0: 384x640 9 cars, 1293.2ms\n",
            "Speed: 3.8ms preprocess, 1293.2ms inference, 1.3ms postprocess per image at shape (1, 3, 384, 640)\n",
            "\n",
            "0: 384x640 9 cars, 1333.8ms\n",
            "Speed: 5.2ms preprocess, 1333.8ms inference, 2.1ms postprocess per image at shape (1, 3, 384, 640)\n",
            "\n",
            "0: 384x640 9 cars, 1309.9ms\n",
            "Speed: 3.9ms preprocess, 1309.9ms inference, 1.2ms postprocess per image at shape (1, 3, 384, 640)\n"
          ]
        }
      ]
    },
    {
      "cell_type": "markdown",
      "source": [
        "# Thank you for learning with me 🥰\n",
        "\n",
        "# Follow my [``Github``](https://github.com/amugoodbad229) for more ``tutorials`` like this and ``Tech News`` that will kinda shock you and don't forget to give a ⭐ on the ``projects`` I have created for ``educational purposes``.\n",
        "\n",
        "# Have a great day! 🥳"
      ],
      "metadata": {
        "id": "-EIWhs-cAG6P"
      }
    }
  ]
}
